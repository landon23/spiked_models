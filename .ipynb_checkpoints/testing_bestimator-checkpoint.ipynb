{
 "cells": [
  {
   "cell_type": "code",
   "execution_count": 35,
   "metadata": {},
   "outputs": [],
   "source": [
    "import numpy as np\n",
    "import imp\n",
    "import methods\n",
    "import besttest\n",
    "import matplotlib.pyplot as plt"
   ]
  },
  {
   "cell_type": "code",
   "execution_count": 36,
   "metadata": {},
   "outputs": [],
   "source": [
    "N = 2500\n",
    "M = 1000\n",
    "n=200\n",
    "spikes = np.array([45])\n",
    "U, S, V = besttest.spikedWishart(N, M, spikes)"
   ]
  },
  {
   "cell_type": "code",
   "execution_count": 33,
   "metadata": {},
   "outputs": [
    {
     "name": "stdout",
     "output_type": "stream",
     "text": [
      "5.089194400775874 5.448971056376266\n",
      "Outlier:  1\n",
      "Sample eigenvalue:  6.718767929766957\n",
      "Estimated population eigenvalue: 6.302028076625463\n",
      "Sample eigenvalue standard deviation:  0.25118938061878515\n",
      "Overlap: 0.9313493014912753\n",
      "Relative overlap std:  0.0069176834280118595\n",
      "Outlier:  2\n",
      "Sample eigenvalue:  5.6635761548590215\n",
      "Estimated population eigenvalue: 5.23768666687966\n",
      "Sample eigenvalue standard deviation:  0.20840867250410117\n",
      "Overlap: 0.9151269244891538\n",
      "Relative overlap std:  0.0085338486424207\n",
      "Outlier:  3\n",
      "Sample eigenvalue:  5.04453688396528\n",
      "Estimated population eigenvalue: 4.6111346915711815\n",
      "Sample eigenvalue standard deviation:  0.18317376841537877\n",
      "Overlap: 0.9015243631822203\n",
      "Relative overlap std:  0.009910731011046557\n"
     ]
    }
   ],
   "source": [
    "imp.reload(methods)\n",
    "fit = methods.fitter(N=N, M=M)\n",
    "fit.square_root_est(S.flatten(), n, 3, 3)"
   ]
  },
  {
   "cell_type": "code",
   "execution_count": 34,
   "metadata": {},
   "outputs": [
    {
     "data": {
      "image/png": "[encoded data removed]",
      "text/plain": [
       "<Figure size 432x288 with 1 Axes>"
      ]
     },
     "metadata": {
      "needs_background": "light"
     },
     "output_type": "display_data"
    }
   ],
   "source": [
    "p = fit.density\n",
    "l, r = fit.l, fit.r\n",
    "x = np.arange(0,100) *(r-l)/100+l\n",
    "plt.scatter(x, n*p(x)/M)\n",
    "plt.hist(S.flatten()[3:], bins=50, alpha=0.5, density = True)\n",
    "plt.show()"
   ]
  },
  {
   "cell_type": "code",
   "execution_count": 25,
   "metadata": {},
   "outputs": [
    {
     "data": {
      "text/plain": [
       "1.0365277023337498"
      ]
     },
     "execution_count": 25,
     "metadata": {},
     "output_type": "execute_result"
    }
   ],
   "source": [
    "fit.l"
   ]
  },
  {
   "cell_type": "code",
   "execution_count": 26,
   "metadata": {},
   "outputs": [
    {
     "data": {
      "text/plain": [
       "1.638146408356735"
      ]
     },
     "execution_count": 26,
     "metadata": {},
     "output_type": "execute_result"
    }
   ],
   "source": [
    "fit.r"
   ]
  },
  {
   "cell_type": "code",
   "execution_count": 22,
   "metadata": {},
   "outputs": [
    {
     "data": {
      "text/plain": [
       "5.872675407429734"
      ]
     },
     "execution_count": 22,
     "metadata": {},
     "output_type": "execute_result"
    }
   ],
   "source": [
    "fit.rh"
   ]
  },
  {
   "cell_type": "code",
   "execution_count": null,
   "metadata": {},
   "outputs": [],
   "source": []
  }
 ],
 "metadata": {
  "kernelspec": {
   "display_name": "Python 3",
   "language": "python",
   "name": "python3"
  },
  "language_info": {
   "codemirror_mode": {
    "name": "ipython",
    "version": 3
   },
   "file_extension": ".py",
   "mimetype": "text/x-python",
   "name": "python",
   "nbconvert_exporter": "python",
   "pygments_lexer": "ipython3",
   "version": "3.8.0"
  }
 },
 "nbformat": 4,
 "nbformat_minor": 2
}
