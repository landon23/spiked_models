{
 "cells": [
  {
   "cell_type": "code",
   "execution_count": 91,
   "metadata": {},
   "outputs": [
    {
     "name": "stdout",
     "output_type": "stream",
     "text": [
      "Number of zero columns: 366\n",
      "lambda: 0.40374336307212655 sigma: 1.0\n"
     ]
    },
    {
     "data": {
      "image/png": "[encoded data removed]",
      "text/plain": [
       "<Figure size 432x288 with 1 Axes>"
      ]
     },
     "metadata": {
      "needs_background": "light"
     },
     "output_type": "display_data"
    }
   ],
   "source": [
    "import matplotlib.pyplot as plt\n",
    "import numpy as np\n",
    "import main\n",
    "import imp\n",
    "imp.reload(main)\n",
    "N = 4000\n",
    "M = 2000\n",
    "a= 5\n",
    "b= 15\n",
    "\n",
    "H, U, S, V = main.inhomogWishart(N, M, a, b, verb=True, white=False)\n",
    "\n",
    "\n",
    "\n",
    "trimS = S\n",
    "lam, sig = main.params(np.mean(trimS), np.mean(trimS*trimS))\n",
    "print('lambda:', lam, 'sigma:', sig)\n",
    "x, y = main.plotWiki(100,lam, sig)\n",
    "#print(x)\n",
    "plt.plot(x, y)\n",
    "plt.hist(S, bins=50, density=True)\n",
    "\n",
    "plt.show()"
   ]
  },
  {
   "cell_type": "code",
   "execution_count": 74,
   "metadata": {},
   "outputs": [
    {
     "name": "stdout",
     "output_type": "stream",
     "text": [
      "4\n"
     ]
    }
   ],
   "source": [
    "imp.reload(main)\n",
    "a =1.1\n",
    "b = 10\n",
    "H, B = main.inhomogWishart(N, M, a, b, diag=False)\n",
    "nnz = np.sum(B, axis=0)\n",
    "print(len(np.where(nnz < 0.5)[0]))\n"
   ]
  },
  {
   "cell_type": "code",
   "execution_count": null,
   "metadata": {},
   "outputs": [],
   "source": []
  },
  {
   "cell_type": "code",
   "execution_count": null,
   "metadata": {},
   "outputs": [],
   "source": []
  }
 ],
 "metadata": {
  "kernelspec": {
   "display_name": "Python 3",
   "language": "python",
   "name": "python3"
  },
  "language_info": {
   "codemirror_mode": {
    "name": "ipython",
    "version": 3
   },
   "file_extension": ".py",
   "mimetype": "text/x-python",
   "name": "python",
   "nbconvert_exporter": "python",
   "pygments_lexer": "ipython3",
   "version": "3.8.0"
  }
 },
 "nbformat": 4,
 "nbformat_minor": 2
}
