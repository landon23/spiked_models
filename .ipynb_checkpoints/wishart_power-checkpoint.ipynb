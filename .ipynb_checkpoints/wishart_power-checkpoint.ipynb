{
 "cells": [
  {
   "cell_type": "markdown",
   "metadata": {},
   "source": [
    "<b> Overlap of sample and population eigenvectors for sample covariance matrices with power-law noise</b>\n",
    "\n",
    "In this note we examine the behavior of the following sample covariance matrix.  Let $Z$ be an $N \\times M$ matrix of iid Gaussians with variance $1$.  We construct the following vector $\\gamma_i$ from the $M$ quantiles of the measure, (note the prefactor $64$ is the normalization constant)\n",
    "$$\n",
    "d F ( t ) = 64 (1 - t)^3 \\mathbb{1}_{ \\{ \\frac{1}{2} < t <1 \\} } dt\n",
    "$$\n",
    "via\n",
    "$$\n",
    "\\frac{i-1}{N} = \\int_{ \\gamma_i}^{1} d F (t), \\qquad \\gamma_i = 1 - \\frac{1}{2} \\left( \\frac{i-1}{N} \\right)^{\\frac{1}{4} }\n",
    "$$\n",
    "We construct the matrix $X$ with entries $X_{ij} = Z_{ij}\\sqrt{ \\gamma_j } $.  The sample covariance matrix we examine is then,\n",
    "$$\n",
    "H := \\frac{1}{N} X^* X.\n",
    "$$\n",
    "Importantly, the population covariance matrix $\\Sigma$ is diagonal with $i$th entry equal to $\\gamma_i$.  Its spectral distribution converges to $F$.\n",
    "\n",
    "Recall the function $\\psi$ defined by\n",
    "$$\n",
    "\\psi( \\alpha ) = \\alpha + \\gamma \\alpha \\int \\frac{ t d F (t) }{ \\alpha - t }, \\qquad \\gamma = \\frac{M}{N}.\n",
    "$$\n",
    "If we have the inequality,\n",
    "$$\n",
    "0 < \\psi' (1) = 1 - \\gamma \\int \\frac{ t^2 d F (t) }{ (1-t)^2} = 1 - \\gamma \\frac{11}{3},\n",
    "$$\n",
    "then the limiting DOS of $H$ has a power law tail.  Else, it has a square-root tail.\n",
    "\n",
    "We are interested in the overlap of the top few sample eigenvectors with the population eigenvectors (which are just coordinate vectors).  From the theory, the right spectral edge is,\n",
    "$$\n",
    "\\psi (1) = 1+5 \\gamma/3,\n",
    "$$\n",
    "and the overlap function at the spectral edge (for lack of better terminology) is,\n",
    "$$\n",
    "\\frac{1 \\psi' (1) }{ \\psi (1) } = \\frac{1 - \\frac{11 \\gamma}{3} } { 1+ \\frac{5 \\gamma}{3} }\n",
    "$$"
   ]
  },
  {
   "cell_type": "markdown",
   "metadata": {},
   "source": [
    "<b>1.</b> First we simulate the above matrix with $N=100$ and $M=500$, $n=200$ times.  Here, $\\gamma = 1/5$ which ensures the power law tail in the limiting DoS."
   ]
  },
  {
   "cell_type": "code",
   "execution_count": 1,
   "metadata": {},
   "outputs": [],
   "source": [
    "import main\n",
    "import imp\n",
    "import numpy as np\n",
    "imp.reload(main)\n",
    "N=2500\n",
    "M=500\n",
    "n=200\n",
    "eigenvalues = np.zeros((n, M))\n",
    "eigenvectors = np.zeros((n, M, M))\n",
    "minor_eig = np.zeros((n, M-1))\n",
    "for i in range(n):\n",
    "    U, S, V, S2 = main.powerTailWishart(N, M)\n",
    "    eigenvalues[i, :] = S\n",
    "    eigenvectors[i, :, :] = V\n",
    "    minor_eig[i, :] = S2\n"
   ]
  },
  {
   "cell_type": "code",
   "execution_count": 2,
   "metadata": {},
   "outputs": [
    {
     "data": {
      "image/png": "[encoded data removed]",
      "text/plain": [
       "<Figure size 432x288 with 1 Axes>"
      ]
     },
     "metadata": {
      "needs_background": "light"
     },
     "output_type": "display_data"
    }
   ],
   "source": [
    "import matplotlib.pyplot as plt\n",
    "plt.hist(eigenvalues.flatten(), bins=100)\n",
    "plt.show()"
   ]
  },
  {
   "cell_type": "markdown",
   "metadata": {},
   "source": [
    "<b>2.</b> Here is a histogram of the quantiles $\\gamma_i$."
   ]
  },
  {
   "cell_type": "code",
   "execution_count": 3,
   "metadata": {},
   "outputs": [
    {
     "data": {
      "image/png": "[encoded data removed]",
      "text/plain": [
       "<Figure size 432x288 with 1 Axes>"
      ]
     },
     "metadata": {
      "needs_background": "light"
     },
     "output_type": "display_data"
    }
   ],
   "source": [
    "imp.reload(main)\n",
    "gam = main.makeGamma(M)\n",
    "plt.hist(gam, bins=50)\n",
    "plt.show()"
   ]
  },
  {
   "cell_type": "markdown",
   "metadata": {},
   "source": [
    "<b>3.</b> The limiting value of the overlap between population and sample eigenvectors for population eigenvalues at $1$ is\n",
    "$$\n",
    "\\frac{1 \\psi' (1) }{ \\psi (1) } = \\frac{1 - \\frac{11 \\gamma}{3} } { 1+ \\frac{5 \\gamma}{3} } = 0.2\n",
    "$$\n",
    "Below we report the average squared overlap over the $n=200$ trials of the sample and population eigenvalues for the largest $10$ eigenvalues, and plot the values against the average sample eigenvalue position.\n",
    "\n",
    "The squared overlap should be compared to the value $M^{-1} = 0.002$ which is the value for a totally delocalized vector."
   ]
  },
  {
   "cell_type": "code",
   "execution_count": 4,
   "metadata": {},
   "outputs": [
    {
     "name": "stdout",
     "output_type": "stream",
     "text": [
      "Overlaps of the top 10 eigenvectors in descending order: [0.04596004 0.02806983 0.01612276 0.01454201 0.01309377 0.0097396\n",
      " 0.01055247 0.00872251 0.00917393 0.00741726]\n"
     ]
    },
    {
     "data": {
      "image/png": "[encoded data removed]",
      "text/plain": [
       "<Figure size 432x288 with 1 Axes>"
      ]
     },
     "metadata": {
      "needs_background": "light"
     },
     "output_type": "display_data"
    }
   ],
   "source": [
    "V = np.einsum('ijj->ij', eigenvectors[:, 0:10, 0:10])\n",
    "V = np.power(V, 2.0)\n",
    "vec_mean = np.mean(V, axis=0)\n",
    "eig_mean = np.mean(eigenvalues[:, 0:10], axis=0)\n",
    "print('Overlaps of the top 10 eigenvectors in descending order:', vec_mean)\n",
    "plt.scatter(eig_mean, vec_mean)\n",
    "plt.xlabel('mean eigenvalue')\n",
    "plt.ylabel('mean squared overlap')\n",
    "plt.plot(eig_mean, 0.2*np.ones(10), color='red', label='theoretical signal 0.2')\n",
    "plt.plot(eig_mean, 0.002*np.ones(10), color='green', label='theoretical null 0.002')\n",
    "plt.legend()\n",
    "plt.show()"
   ]
  },
  {
   "cell_type": "markdown",
   "metadata": {},
   "source": [
    "<b>4.</b> The next question is whether we can \"predict\" the blue dots in the above plot.  The theoretical limit is the function,\n",
    "$$\n",
    "\\eta (p) := \\frac{ p \\psi' ( p ) }{ \\psi (p)}.\n",
    "$$\n",
    "However, this works only for $p > 1$.  We want to try to make up for this finite $N$ effect; when $p = \\gamma_i$, a quantile, let's take $F^{(i)}$ to be a discrete measure supported on the $M-1$ points $\\{ \\gamma_j \\}_{\\{ j \\neq i \\} }$. I.e., we leave out $\\gamma_i$ from the definition of $F^{(i)}$,\n",
    "$$\n",
    "F^{(i)}(x) = \\frac{1}{M-1} \\sum_{j\\neq i } \\delta_{j} (x)\n",
    "$$"
   ]
  },
  {
   "cell_type": "code",
   "execution_count": 5,
   "metadata": {},
   "outputs": [
    {
     "data": {
      "text/plain": [
       "array([ -1.24464626,  -2.3447672 ,  -3.4938212 ,  -4.69086795,\n",
       "        -5.92843253,  -7.19960542,  -8.49869729,  -9.82109912,\n",
       "       -11.16306127, -12.52150501])"
      ]
     },
     "execution_count": 5,
     "metadata": {},
     "output_type": "execute_result"
    }
   ],
   "source": [
    "imp.reload(main)\n",
    "theorN = np.zeros(10)\n",
    "for i in range(10):\n",
    "    theorN[i] = main.eta_dropout(i, M, N)\n",
    "theorN"
   ]
  },
  {
   "cell_type": "code",
   "execution_count": null,
   "metadata": {},
   "outputs": [],
   "source": [
    "import main\n",
    "import imp\n",
    "import numpy as np\n",
    "imp.reload(main)\n",
    "N=25000\n",
    "M=5000\n",
    "n=1\n",
    "eigenvalues = np.zeros((n, M))\n",
    "eigenvectors = np.zeros((n, M, M))\n",
    "minor_eig = np.zeros((n, M-1))\n",
    "for i in range(n):\n",
    "    U, S, V, S2 = main.powerTailWishart(N, M)\n",
    "    eigenvalues[i, :] = S\n",
    "    eigenvectors[i, :, :] = V\n",
    "    minor_eig[i, :] = S2\n"
   ]
  },
  {
   "cell_type": "code",
   "execution_count": 5,
   "metadata": {},
   "outputs": [],
   "source": [
    "import matplotlib.pyplot as plt\n",
    "import main\n",
    "import imp\n",
    "imp.reload(main)\n",
    "import numpy as np\n",
    "\n",
    "N = 500\n",
    "M = 100\n",
    "gamma = M/N\n",
    "n = 100\n",
    "eig = np.zeros(n)\n",
    "v = np.zeros((n, M))\n",
    "est = np.zeros(n) \n",
    "for i in range(n):\n",
    "    U, S, V, S2 = main.powerTailWishart(N, M)\n",
    "    eig[i]=S[0]\n",
    "    dif = S[0] -S2\n",
    "    \n",
    "    dif = 1 / dif\n",
    "    es = gamma*np.mean(dif)*S[0] + (1 - gamma)\n",
    "    es = es / (gamma*np.mean(dif*dif)*S[0]*S[0]+ (1- gamma) )\n",
    "    \n",
    "\n",
    "    est[i] = es\n",
    "    v[i, :]=np.diag(V)\n",
    "v = np.power(v, 2.0)"
   ]
  },
  {
   "cell_type": "code",
   "execution_count": 6,
   "metadata": {},
   "outputs": [
    {
     "data": {
      "text/plain": [
       "0.25737789166305874"
      ]
     },
     "execution_count": 6,
     "metadata": {},
     "output_type": "execute_result"
    }
   ],
   "source": [
    "np.mean(est)"
   ]
  },
  {
   "cell_type": "code",
   "execution_count": 7,
   "metadata": {},
   "outputs": [
    {
     "name": "stdout",
     "output_type": "stream",
     "text": [
      "Mean v_0^2= 0.29530230888395537\n",
      "Mean lambda_1= 1.336313963647686\n"
     ]
    }
   ],
   "source": [
    "print('Mean v_0^2=',np.mean(v[:, 0]))\n",
    "print('Mean lambda_1=',np.mean(eig))"
   ]
  },
  {
   "cell_type": "code",
   "execution_count": 126,
   "metadata": {},
   "outputs": [
    {
     "data": {
      "text/plain": [
       "0.2395818397509247"
      ]
     },
     "execution_count": 126,
     "metadata": {},
     "output_type": "execute_result"
    }
   ],
   "source": [
    "imp.reload(main)\n",
    "1.001*main.psider(1.001)/main.Hemp(1.001)"
   ]
  },
  {
   "cell_type": "code",
   "execution_count": 7,
   "metadata": {},
   "outputs": [],
   "source": [
    "import matplotlib.pyplot as plt\n",
    "import main\n",
    "import imp\n",
    "imp.reload(main)\n",
    "import numpy as np\n",
    "\n",
    "N = 2500\n",
    "M = 500\n",
    "gamma = M/N\n",
    "n = 200\n",
    "\n",
    "spikes = np.array([0.92, 0.94, 0.96, 0.98, 1, 1.2, 1.4, 1.6, 1.8, 2.0])-1.0\n",
    "eigs = {}\n",
    "v1 = {}\n",
    "v2 = {}\n",
    "\n",
    "for spike in spikes:\n",
    "    eigs[str(spike)] = np.zeros(n)\n",
    "    v1[str(spike)] = np.zeros((n, 10))\n",
    "    v2[str(spike)] = np.zeros((n, 10))\n",
    "    for i in range(n):\n",
    "        U, S, V = main.powerLawSpiked(N, M, spike)\n",
    "        eigs[str(spike)][i]=S[0]\n",
    "        v1[str(spike)][i, :]= V[0, 0:10]\n",
    "        v2[str(spike)][i, :]=V[1, 0:10]\n"
   ]
  },
  {
   "cell_type": "code",
   "execution_count": 8,
   "metadata": {},
   "outputs": [],
   "source": [
    "v11 = np.zeros(len(spikes))\n",
    "for i, spike in enumerate(spikes):\n",
    "    v11[i] = np.mean(np.power(v1[str(spike)][:, 0], 2.0))"
   ]
  },
  {
   "cell_type": "code",
   "execution_count": 14,
   "metadata": {},
   "outputs": [
    {
     "data": {
      "image/png": "[encoded data removed]",
      "text/plain": [
       "<Figure size 432x288 with 1 Axes>"
      ]
     },
     "metadata": {
      "needs_background": "light"
     },
     "output_type": "display_data"
    }
   ],
   "source": [
    "imp.reload(main)\n",
    "x = np.arange(101)/100*1.08-0.08+1\n",
    "y = np.zeros(len(x))\n",
    "for i in range(len(x)):\n",
    "    y[i] = main.eta(x[i])\n",
    "plt.scatter(spikes, v11)\n",
    "plt.plot(x-1, y)\n",
    "plt.show()"
   ]
  },
  {
   "cell_type": "code",
   "execution_count": 15,
   "metadata": {},
   "outputs": [],
   "source": [
    "J = np.array([])\n",
    "for i in range(100):\n",
    "    U, S, V = main.powerLawSpiked(N, M, 0.0)\n",
    "    J = np.append(J, S)"
   ]
  },
  {
   "cell_type": "code",
   "execution_count": 17,
   "metadata": {},
   "outputs": [
    {
     "data": {
      "image/png": "[encoded data removed]",
      "text/plain": [
       "<Figure size 432x288 with 1 Axes>"
      ]
     },
     "metadata": {
      "needs_background": "light"
     },
     "output_type": "display_data"
    }
   ],
   "source": [
    "plt.hist(J, density=True, bins=100)\n",
    "plt.show()"
   ]
  },
  {
   "cell_type": "code",
   "execution_count": 1,
   "metadata": {},
   "outputs": [],
   "source": [
    "import main\n",
    "import imp\n",
    "import numpy as np\n",
    "imp.reload(main)\n",
    "N=1250\n",
    "M=500\n",
    "n=200\n",
    "eigenvalues = np.zeros((n, M))\n",
    "eigenvectors = np.zeros((n, M, M))\n",
    "for i in range(n):\n",
    "    U, S, V, = main.randWish(N, M, main.makevar())\n",
    "    eigenvalues[i, :] = S\n",
    "    eigenvectors[i, :, :] = V\n"
   ]
  },
  {
   "cell_type": "code",
   "execution_count": 2,
   "metadata": {},
   "outputs": [
    {
     "data": {
      "image/png": "[encoded data removed]",
      "text/plain": [
       "<Figure size 432x288 with 1 Axes>"
      ]
     },
     "metadata": {
      "needs_background": "light"
     },
     "output_type": "display_data"
    }
   ],
   "source": [
    "import matplotlib.pyplot as plt\n",
    "plt.hist(eigenvalues.flatten(), bins=100)\n",
    "plt.show()"
   ]
  },
  {
   "cell_type": "code",
   "execution_count": 3,
   "metadata": {},
   "outputs": [],
   "source": [
    "k=10\n",
    "eigs = np.zeros((n,k))\n",
    "vecs = np.zeros((n, k))\n",
    "for i in range(n):\n",
    "    eigs[i, :] = eigenvalues[i, 0:k]\n",
    "    vecs[i, :] = np.diag(eigenvectors[i, 0:k,0:k])\n",
    "\n",
    "vecs = np.power(vecs, 2)"
   ]
  },
  {
   "cell_type": "code",
   "execution_count": 4,
   "metadata": {},
   "outputs": [
    {
     "data": {
      "text/plain": [
       "<matplotlib.collections.PathCollection at 0x135600b80>"
      ]
     },
     "execution_count": 4,
     "metadata": {},
     "output_type": "execute_result"
    },
    {
     "data": {
      "image/png": "[encoded data removed]",
      "text/plain": [
       "<Figure size 432x288 with 1 Axes>"
      ]
     },
     "metadata": {
      "needs_background": "light"
     },
     "output_type": "display_data"
    }
   ],
   "source": [
    "plt.scatter(eigs.flatten(), vecs.flatten())"
   ]
  },
  {
   "cell_type": "code",
   "execution_count": 5,
   "metadata": {},
   "outputs": [],
   "source": [
    "k=1\n",
    "eigs = np.zeros((n,k+1))\n",
    "vecs = np.zeros((n, k))\n",
    "for i in range(n):\n",
    "    eigs[i, :] = eigenvalues[i, 0:k+1]\n",
    "    vecs[i, :] = np.diag(eigenvectors[i, 0:k,0:k])\n",
    "dif = eigs[:, 0]-eigs[:, 1]\n",
    "vecs = np.power(vecs, 2)"
   ]
  },
  {
   "cell_type": "code",
   "execution_count": 6,
   "metadata": {},
   "outputs": [
    {
     "data": {
      "text/plain": [
       "<matplotlib.collections.PathCollection at 0x13566d340>"
      ]
     },
     "execution_count": 6,
     "metadata": {},
     "output_type": "execute_result"
    },
    {
     "data": {
      "image/png": "[encoded data removed]",
      "text/plain": [
       "<Figure size 432x288 with 1 Axes>"
      ]
     },
     "metadata": {
      "needs_background": "light"
     },
     "output_type": "display_data"
    }
   ],
   "source": [
    "plt.scatter(dif.flatten(), vecs.flatten())"
   ]
  },
  {
   "cell_type": "code",
   "execution_count": 15,
   "metadata": {},
   "outputs": [
    {
     "name": "stdout",
     "output_type": "stream",
     "text": [
      "beta: 1.0211359496395644\n",
      "beta: 0.6996161780440918\n",
      "beta: 0.6853978244577456\n",
      "beta: 0.9404651148276216\n",
      "beta: 1.2530135693588196\n",
      "beta: 1.0849882919099147\n",
      "beta: 1.0953093798572286\n",
      "beta: 1.2607490273480548\n",
      "beta: 0.9440975486357573\n",
      "beta: 0.6946228631894572\n",
      "beta: 0.7245049877119015\n",
      "beta: 0.9587763348290838\n",
      "beta: 0.9003882427443075\n",
      "beta: 0.709977446802951\n",
      "beta: 0.9444662583608078\n",
      "beta: 0.6036829247958945\n",
      "beta: 0.9755396342352349\n",
      "beta: 0.9644038240142133\n",
      "beta: 0.7360277043051245\n",
      "beta: 0.9255672825194109\n",
      "beta: 0.8990951617635162\n",
      "beta: 0.8447017942731356\n",
      "beta: 0.8278739017443604\n",
      "beta: 0.7244669003636793\n",
      "beta: 1.1329802752156182\n",
      "beta: 0.5861662332499211\n",
      "beta: 0.961186803309834\n",
      "beta: 1.00797428136181\n",
      "beta: 0.7478238986086895\n",
      "beta: 1.3997668907588297\n",
      "beta: 0.7415794446727761\n",
      "beta: 0.7161249265319962\n",
      "beta: 0.6084702512255906\n",
      "beta: 1.049725275895841\n",
      "beta: 0.6909888993114671\n",
      "beta: 0.6771981064519733\n",
      "beta: 0.9072161759510124\n",
      "beta: 1.3764740063770111\n",
      "beta: 0.7862250980466844\n",
      "beta: 0.9270678582243584\n",
      "beta: 1.183108446000706\n",
      "beta: 1.1929317508222228\n",
      "beta: 1.225740056775927\n",
      "beta: 1.3697099117186722\n",
      "beta: 0.8080803633422101\n",
      "beta: 0.7432417454905331\n",
      "beta: 0.6737838731748869\n",
      "beta: 0.7305011900034376\n",
      "beta: 1.2877578784227885\n",
      "beta: 0.8133184929398585\n",
      "beta: 0.9094175764004538\n",
      "beta: 1.1091544361878685\n",
      "beta: 0.9818076852195721\n",
      "beta: 1.0687884270051635\n",
      "beta: 0.5377688587057173\n",
      "beta: 1.262798085374134\n",
      "beta: 0.7073957806208632\n",
      "beta: 0.4908192959511317\n",
      "beta: 0.9275565512715672\n",
      "beta: 0.5980730561129308\n",
      "beta: 0.6157874620492115\n",
      "beta: 1.2547064169168198\n",
      "beta: 0.769308453800952\n",
      "beta: 0.9894907772723757\n",
      "beta: 0.9575712488206001\n",
      "beta: 0.5568760400682556\n",
      "beta: 1.2541354181434006\n",
      "beta: 1.3682562688927706\n",
      "beta: 0.9111344197464645\n",
      "beta: 0.9222569136200247\n",
      "beta: 1.3921871350702306\n",
      "beta: 1.2935280044797919\n",
      "beta: 0.9535639104212718\n",
      "beta: 0.6547171284353168\n",
      "beta: 0.8018950688279934\n",
      "beta: 1.0483199920826218\n",
      "beta: 0.557675138926255\n",
      "beta: 0.8491365366287155\n",
      "beta: 1.0006761695425856\n",
      "beta: 0.842815864450154\n",
      "beta: 0.9651231985486802\n",
      "beta: 0.8379169066430902\n",
      "beta: 1.06769517545539\n",
      "beta: 0.7037219264611728\n",
      "beta: 0.5891822737080342\n",
      "beta: 0.6750362950271113\n",
      "beta: 0.9019679578235007\n",
      "beta: 1.250108284317836\n",
      "beta: 0.4282550238150945\n",
      "beta: 1.003201621322271\n",
      "beta: 0.7008231352912253\n",
      "beta: 1.0439338689075475\n",
      "beta: 0.7600718370180577\n",
      "beta: 1.3959187976825478\n",
      "beta: 0.7349714861445983\n",
      "beta: 1.204502117572691\n",
      "beta: 0.8718620780713685\n",
      "beta: 0.805631705824289\n",
      "beta: 0.8567613449644619\n",
      "beta: 0.7513774476061685\n",
      "beta: 0.7582913926036008\n",
      "beta: 1.4368741696296858\n",
      "beta: 0.9563516423339858\n",
      "beta: 0.7675204145396166\n",
      "beta: 0.7015833218172479\n",
      "beta: 0.7176367093326206\n",
      "beta: 1.0219298666657728\n",
      "beta: 1.0508108276035777\n",
      "beta: 0.7559948527262669\n",
      "beta: 0.9555970078612483\n",
      "beta: 0.830148953997945\n",
      "beta: 0.8071970193525205\n",
      "beta: 0.9596720751077442\n",
      "beta: 0.8032977016378339\n",
      "beta: 0.5990885716894675\n",
      "beta: 0.7349612492759295\n",
      "beta: 1.2615534153487984\n",
      "beta: 0.9144261607162307\n",
      "beta: 1.0182316784608962\n",
      "beta: 0.7768513771842196\n",
      "beta: 0.895306124853193\n",
      "beta: 1.0306932422240414\n",
      "beta: 1.1794327267289575\n",
      "beta: 1.0666606485003411\n",
      "beta: 0.7528065179325028\n",
      "beta: 0.6799577178990518\n",
      "beta: 0.7760625454681928\n",
      "beta: 0.717718409838213\n",
      "beta: 0.8615434714887961\n",
      "beta: 0.6340866871476669\n",
      "beta: 0.6416453192801874\n",
      "beta: 0.6091593834200613\n",
      "beta: 0.7142679998954008\n",
      "beta: 0.7024607171795627\n",
      "beta: 0.6757119425053585\n",
      "beta: 1.06862010421324\n",
      "beta: 0.9971112435166429\n",
      "beta: 0.611246471593551\n",
      "beta: 0.9641872154891089\n",
      "beta: 0.9388808249821651\n",
      "beta: 0.887583280954954\n",
      "beta: 0.9552567572917265\n",
      "beta: 1.0427086461460378\n",
      "beta: 0.939514184431913\n",
      "beta: 0.6685579411580377\n",
      "beta: 0.9105099280459816\n",
      "beta: 0.9583054686492358\n",
      "beta: 0.7336168530273238\n",
      "beta: 0.7419825082738944\n",
      "beta: 0.7786806964731156\n",
      "beta: 0.6757119425053584\n",
      "beta: 0.601255252456614\n",
      "beta: 0.7489526663927288\n",
      "beta: 1.381765421502294\n",
      "beta: 1.3434693541267386\n",
      "beta: 0.8964132438581633\n",
      "beta: 1.068132503455546\n",
      "beta: 0.9434632853099586\n",
      "beta: 0.8737424453432778\n",
      "beta: 0.9580927846533895\n",
      "beta: 0.7015347292836183\n",
      "beta: 0.8729754413958701\n",
      "beta: 0.5606076237768076\n",
      "beta: 1.1894658351190492\n",
      "beta: 0.6436733673934559\n",
      "beta: 0.5496523629086701\n",
      "beta: 1.215589012304353\n",
      "beta: 0.9443879450555783\n",
      "beta: 0.7628459967370922\n",
      "beta: 1.0837653703057528\n",
      "beta: 1.3999000894073375\n",
      "beta: 0.8613963178000579\n",
      "beta: 0.6015078007870697\n",
      "beta: 0.811136416312809\n",
      "beta: 0.8886163003950522\n",
      "beta: 0.6347219456181499\n",
      "beta: 0.97234332482791\n",
      "beta: 0.8385992489424826\n",
      "beta: 0.9097475430438834\n",
      "beta: 0.84847024646485\n",
      "beta: 0.9169328855218996\n",
      "beta: 0.8102788259723781\n",
      "beta: 0.9261381687136778\n",
      "beta: 0.9025144129141782\n",
      "beta: 0.7573768000446095\n",
      "beta: 0.8589801388703004\n",
      "beta: 1.2719783832641143\n",
      "beta: 0.7918042062089402\n",
      "beta: 0.8673314829858979\n",
      "beta: 1.2698026545644379\n",
      "beta: 0.7965989032838863\n",
      "beta: 0.6484686644155588\n",
      "beta: 1.1725979632018166\n",
      "beta: 0.6581781257509501\n",
      "beta: 1.050532859984649\n",
      "beta: 0.9068443081937464\n",
      "beta: 1.0151432443283044\n",
      "beta: 0.3609295239950774\n",
      "beta: 0.6849092114196185\n",
      "beta: 0.9437004614106266\n"
     ]
    }
   ],
   "source": [
    "imp.reload(main)\n",
    "lambs = eigenvalues[30, :]\n",
    "var = np.zeros(n)\n",
    "for i in range(n):\n",
    "    lambs = eigenvalues[i, :]\n",
    "    var[i] = main.var_est(lambs, N, M, n=100)\n"
   ]
  },
  {
   "cell_type": "code",
   "execution_count": 21,
   "metadata": {},
   "outputs": [
    {
     "data": {
      "text/plain": [
       "<matplotlib.collections.PathCollection at 0x135299130>"
      ]
     },
     "execution_count": 21,
     "metadata": {},
     "output_type": "execute_result"
    },
    {
     "data": {
      "image/png": "[encoded data removed]",
      "text/plain": [
       "<Figure size 432x288 with 1 Axes>"
      ]
     },
     "metadata": {
      "needs_background": "light"
     },
     "output_type": "display_data"
    }
   ],
   "source": [
    "plt.scatter(dif.flatten()/ np.sqrt(var.flatten()), vecs.flatten())"
   ]
  },
  {
   "cell_type": "code",
   "execution_count": 9,
   "metadata": {},
   "outputs": [],
   "source": [
    "imp.reload(main)\n",
    "preds = np.zeros(n)\n",
    "for i in range(n):\n",
    "    preds[i] = main.m_est(np.append(eigenvalues[i, :], np.zeros(N-M)), 0)\n"
   ]
  },
  {
   "cell_type": "code",
   "execution_count": 11,
   "metadata": {},
   "outputs": [
    {
     "data": {
      "text/plain": [
       "<matplotlib.collections.PathCollection at 0x12d5b18b0>"
      ]
     },
     "execution_count": 11,
     "metadata": {},
     "output_type": "execute_result"
    },
    {
     "data": {
      "image/png": "[encoded data removed]",
      "text/plain": [
       "<Figure size 432x288 with 1 Axes>"
      ]
     },
     "metadata": {
      "needs_background": "light"
     },
     "output_type": "display_data"
    }
   ],
   "source": [
    "plt.scatter(preds, vecs)"
   ]
  },
  {
   "cell_type": "code",
   "execution_count": 9,
   "metadata": {},
   "outputs": [
    {
     "data": {
      "image/png": "[encoded data removed]",
      "text/plain": [
       "<Figure size 432x288 with 1 Axes>"
      ]
     },
     "metadata": {
      "needs_background": "light"
     },
     "output_type": "display_data"
    }
   ],
   "source": [
    "gaps = eigenvalues[:, 0]-eigenvalues[:, 1]\n",
    "plt.hist(gaps, bins=30)\n",
    "plt.show()"
   ]
  },
  {
   "cell_type": "code",
   "execution_count": 76,
   "metadata": {},
   "outputs": [
    {
     "data": {
      "text/plain": [
       "(200, 500)"
      ]
     },
     "execution_count": 76,
     "metadata": {},
     "output_type": "execute_result"
    }
   ],
   "source": [
    "samp = eigenvalues[25, :]\n",
    "eigenvalues.shape"
   ]
  },
  {
   "cell_type": "code",
   "execution_count": 75,
   "metadata": {},
   "outputs": [
    {
     "data": {
      "image/png": "[encoded data removed]",
      "text/plain": [
       "<Figure size 432x288 with 1 Axes>"
      ]
     },
     "metadata": {
      "needs_background": "light"
     },
     "output_type": "display_data"
    },
    {
     "data": {
      "text/plain": [
       "array([49.81766046, 43.72009418, 30.58867105, 28.4668096 , 27.98664653,\n",
       "       27.68481309, 27.32453284, 26.01286406, 25.3667057 , 24.79927341,\n",
       "       24.50022988, 24.04345102, 23.50738408, 23.33272016, 22.5436823 ,\n",
       "       22.08908055, 21.58288249, 21.2525033 , 21.18689415, 20.74098033,\n",
       "       20.51930025, 20.16088952, 19.95622003, 19.51591616, 19.34819145,\n",
       "       19.11781403, 18.83406363, 18.70881297, 18.43014505, 18.3747291 ,\n",
       "       18.05972674, 17.91446191, 17.8275465 , 17.48634691, 17.31773836,\n",
       "       17.16068901, 17.08782219, 17.03677346, 16.84892787, 16.6912599 ,\n",
       "       16.55345374, 16.39459156, 16.26419907, 16.07736112, 16.02321368,\n",
       "       15.9344215 , 15.70039726, 15.56341856, 15.43297395, 15.41087113,\n",
       "       15.25433456, 15.12412975, 14.97351577, 14.83865012, 14.76629483,\n",
       "       14.71096905, 14.6151424 , 14.49219656, 14.31062612, 14.23609624,\n",
       "       14.16506281, 14.08591242, 13.99419264, 13.90841947, 13.85160138,\n",
       "       13.77229954, 13.6583895 , 13.53786982, 13.49445699, 13.33064904,\n",
       "       13.27984855, 13.18509329, 13.16107261, 13.08457867, 13.01165315,\n",
       "       12.90656611, 12.82815604, 12.76795546, 12.75797462, 12.5691732 ,\n",
       "       12.5012768 , 12.44620008, 12.43705864, 12.36826456, 12.3452401 ,\n",
       "       12.12727518, 12.05178468, 12.00033492, 11.89163872, 11.85665695,\n",
       "       11.75585003, 11.72765583, 11.59023422, 11.54544596, 11.53180611,\n",
       "       11.45112801, 11.32573694, 11.27736884, 11.22301584, 11.20504737,\n",
       "       11.15445892, 11.08719401, 11.05199046, 10.98760458, 10.89643661,\n",
       "       10.84868247, 10.77158925, 10.72490306, 10.68935866, 10.56289926,\n",
       "       10.47892292, 10.44977868, 10.40047239, 10.34383787, 10.30119272,\n",
       "       10.19497981, 10.16391037, 10.14698964, 10.03921324, 10.00575873,\n",
       "        9.97426645,  9.8797655 ,  9.84301976,  9.84044855,  9.7276858 ,\n",
       "        9.6965577 ,  9.68996008,  9.61084899,  9.52073747,  9.48253676,\n",
       "        9.41733342,  9.40033724,  9.37958761,  9.30886892,  9.24103295,\n",
       "        9.19781157,  9.14030714,  9.08391781,  9.01856307,  8.97457754,\n",
       "        8.92808007,  8.8985677 ,  8.81817515,  8.80554722,  8.77164259,\n",
       "        8.73565213,  8.69610206,  8.65775834,  8.5848672 ,  8.55784445,\n",
       "        8.51829687,  8.49390004,  8.47922719,  8.36549213,  8.34809672,\n",
       "        8.31231629,  8.27049224,  8.20733254,  8.12777757,  8.08923497,\n",
       "        8.06567626,  8.03402176,  7.96031962,  7.94608406,  7.89258179,\n",
       "        7.85988172,  7.78647103,  7.7595217 ,  7.74844243,  7.72155937,\n",
       "        7.67981458,  7.6470732 ,  7.60491985,  7.55375436,  7.53185806,\n",
       "        7.46883517,  7.44845686,  7.43818651,  7.38572186,  7.37359091,\n",
       "        7.30267094,  7.28654352,  7.2447074 ,  7.20928537,  7.16506396,\n",
       "        7.13152924,  7.11199325,  7.06771746,  7.05350869,  7.03849789,\n",
       "        6.96332464,  6.91479055,  6.88421694,  6.86885161,  6.82334175,\n",
       "        6.80090421,  6.75754513,  6.7167873 ,  6.68333516,  6.64813016,\n",
       "        6.59823658,  6.58758504,  6.53703849,  6.52927057,  6.51936512,\n",
       "        6.47121248,  6.43867427,  6.42328148,  6.37151301,  6.33193681,\n",
       "        6.31631259,  6.25862655,  6.21561075,  6.14860476,  6.13955689,\n",
       "        6.11709412,  6.10127777,  6.06200954,  6.05679764,  6.04748267,\n",
       "        5.98080292,  5.9609352 ,  5.94723289,  5.89213714,  5.86243459,\n",
       "        5.8590548 ,  5.80066018,  5.78578606,  5.75648611,  5.73200017,\n",
       "        5.69427804,  5.6720061 ,  5.65793074,  5.60439446,  5.59013158,\n",
       "        5.57213079,  5.51797329,  5.4858038 ,  5.47313822,  5.4332701 ,\n",
       "        5.41061075,  5.39389948,  5.38092165,  5.34332771,  5.33073392,\n",
       "        5.27595896,  5.24138334,  5.21033336,  5.20517407,  5.1970168 ,\n",
       "        5.15638729,  5.14163401,  5.1086162 ,  5.08117249,  5.05395372,\n",
       "        5.03225129,  5.00761567,  5.00041124,  4.94522286,  4.92161896,\n",
       "        4.91143906,  4.8902028 ,  4.83859766,  4.81168736,  4.78593057,\n",
       "        4.76449976,  4.7502874 ,  4.72332971,  4.70266179,  4.67604711,\n",
       "        4.65625566,  4.64636476,  4.59251635,  4.54841385,  4.53917587,\n",
       "        4.52479166,  4.51570476,  4.49261465,  4.46955933,  4.46509929,\n",
       "        4.41508884,  4.41183899,  4.39127615,  4.35889011,  4.32818963,\n",
       "        4.31361971,  4.27887409,  4.26810508,  4.22288644,  4.20793346,\n",
       "        4.17178243,  4.16634349,  4.15004829,  4.13248687,  4.11739307,\n",
       "        4.09200424,  4.05426339,  4.02641181,  4.02446815,  4.01641716,\n",
       "        3.9857964 ,  3.96800548,  3.94830724,  3.93087341,  3.91427267,\n",
       "        3.88366375,  3.85654605,  3.83721319,  3.82786431,  3.78407007,\n",
       "        3.75450275,  3.74817776,  3.72187718,  3.71181556,  3.68359343,\n",
       "        3.67104045,  3.65340248,  3.63208487,  3.6138212 ,  3.58172735,\n",
       "        3.55395378,  3.53631719,  3.52870524,  3.52021991,  3.48775705,\n",
       "        3.46142334,  3.44905149,  3.42272034,  3.40036191,  3.38896457,\n",
       "        3.36624454,  3.34785228,  3.33153553,  3.3069197 ,  3.29933392,\n",
       "        3.26280685,  3.25620325,  3.23325358,  3.21238819,  3.20013956,\n",
       "        3.18567792,  3.16077599,  3.14548271,  3.13153462,  3.11556095,\n",
       "        3.09374245,  3.06386235,  3.06031102,  3.05528054,  3.02487426,\n",
       "        3.00553528,  2.98056516,  2.96260624,  2.94410558,  2.92823316,\n",
       "        2.92106276,  2.90457496,  2.89345228,  2.8833363 ,  2.8536327 ,\n",
       "        2.83793139,  2.80142944,  2.78098762,  2.7782845 ,  2.76749791,\n",
       "        2.75128976,  2.73296161,  2.72304035,  2.69649267,  2.68420339,\n",
       "        2.67102929,  2.64056222,  2.63362889,  2.6154023 ,  2.59018399,\n",
       "        2.58115738,  2.57635404,  2.56101858,  2.55152883,  2.52423531,\n",
       "        2.507267  ,  2.49361635,  2.47963855,  2.46555581,  2.44727812,\n",
       "        2.42620828,  2.42416803,  2.39695235,  2.37315995,  2.36774851,\n",
       "        2.35240605,  2.34019777,  2.3238251 ,  2.28676775,  2.28231064,\n",
       "        2.26299393,  2.25822794,  2.24738359,  2.22784056,  2.21155163,\n",
       "        2.2038841 ,  2.20021773,  2.18661101,  2.16463396,  2.14784777,\n",
       "        2.13212143,  2.10413988,  2.08279719,  2.0822139 ,  2.05480847,\n",
       "        2.04059518,  2.03321456,  2.01663881,  1.99237865,  1.97896183,\n",
       "        1.96917968,  1.95109435,  1.93529327,  1.93010912,  1.91405768,\n",
       "        1.89938899,  1.88590528,  1.85514456,  1.84787273,  1.8395847 ,\n",
       "        1.83025519,  1.79785869,  1.79129703,  1.78441327,  1.77021066,\n",
       "        1.76543822,  1.74080055,  1.72716074,  1.71397781,  1.70263466,\n",
       "        1.68109978,  1.67403025,  1.6608552 ,  1.64828307,  1.64248869,\n",
       "        1.62657363,  1.61515037,  1.59433908,  1.58771886,  1.58348301,\n",
       "        1.56724428,  1.55532719,  1.54415646,  1.51930947,  1.51037891,\n",
       "        1.49743629,  1.47582473,  1.46292455,  1.46011098,  1.43804451,\n",
       "        1.42846626,  1.39722191,  1.39572768,  1.36782266,  1.35109192,\n",
       "        1.33488607,  1.32621149,  1.32452913,  1.31166712,  1.29572013,\n",
       "        1.2877381 ,  1.27000878,  1.25539693,  1.2416451 ,  1.21580376,\n",
       "        1.20253927,  1.19003201,  1.18224161,  1.1771721 ,  1.15674421,\n",
       "        1.14824801,  1.13822773,  1.12264169,  1.10436872,  1.09051185,\n",
       "        1.08346693,  1.06999234,  1.05133485,  1.04663216,  1.02463599,\n",
       "        1.00700935,  1.00351007,  0.99034969,  0.98535372,  0.95374682,\n",
       "        0.94544463,  0.92116613,  0.90233639,  0.8849746 ,  0.86133378,\n",
       "        0.8567485 ,  0.82106533,  0.78659592,  0.77005841,  0.74015942])"
      ]
     },
     "execution_count": 75,
     "metadata": {},
     "output_type": "execute_result"
    }
   ],
   "source": [
    "plt.hist(samp, bins=50)\n",
    "plt.show()\n",
    "samp"
   ]
  },
  {
   "cell_type": "code",
   "execution_count": 71,
   "metadata": {},
   "outputs": [],
   "source": [
    "imp.reload(main)\n",
    "a, b, h, c, edges = main.fitter(samp)\n",
    "fits = np.power(c, a)*np.exp(b)"
   ]
  },
  {
   "cell_type": "code",
   "execution_count": 86,
   "metadata": {},
   "outputs": [],
   "source": [
    "eee = eigenvalues[:, 0]-eigenvalues[:, 1:500].transpose()\n",
    "eee = eee.transpose()\n",
    "hh = np.histogram(eee.flatten(), bins=edges)[0]/n"
   ]
  },
  {
   "cell_type": "code",
   "execution_count": 78,
   "metadata": {},
   "outputs": [],
   "source": []
  },
  {
   "cell_type": "code",
   "execution_count": 87,
   "metadata": {},
   "outputs": [
    {
     "data": {
      "image/png": "[encoded data removed]",
      "text/plain": [
       "<Figure size 432x288 with 1 Axes>"
      ]
     },
     "metadata": {
      "needs_background": "light"
     },
     "output_type": "display_data"
    }
   ],
   "source": [
    "plt.scatter(c, h)\n",
    "plt.scatter(c, fits)\n",
    "plt.scatter(c, hh)\n",
    "plt.show()"
   ]
  },
  {
   "cell_type": "code",
   "execution_count": 43,
   "metadata": {},
   "outputs": [
    {
     "data": {
      "text/plain": [
       "(21,)"
      ]
     },
     "execution_count": 43,
     "metadata": {},
     "output_type": "execute_result"
    }
   ],
   "source": [
    "h, b = np.histogram(rest,20)\n",
    "h.shape\n",
    "b.shape"
   ]
  },
  {
   "cell_type": "code",
   "execution_count": 56,
   "metadata": {},
   "outputs": [],
   "source": [
    "hh = np.histogram(eigenvalues.flatten(), bins=edges)"
   ]
  },
  {
   "cell_type": "code",
   "execution_count": 83,
   "metadata": {},
   "outputs": [
    {
     "data": {
      "image/png": "[encoded data removed]",
      "text/plain": [
       "<Figure size 432x288 with 1 Axes>"
      ]
     },
     "metadata": {
      "needs_background": "light"
     },
     "output_type": "display_data"
    }
   ],
   "source": [
    "\n"
   ]
  },
  {
   "cell_type": "code",
   "execution_count": null,
   "metadata": {},
   "outputs": [],
   "source": []
  }
 ],
 "metadata": {
  "kernelspec": {
   "display_name": "Python 3",
   "language": "python",
   "name": "python3"
  },
  "language_info": {
   "codemirror_mode": {
    "name": "ipython",
    "version": 3
   },
   "file_extension": ".py",
   "mimetype": "text/x-python",
   "name": "python",
   "nbconvert_exporter": "python",
   "pygments_lexer": "ipython3",
   "version": "3.8.0"
  }
 },
 "nbformat": 4,
 "nbformat_minor": 2
}
