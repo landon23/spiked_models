{
 "cells": [
  {
   "cell_type": "markdown",
   "metadata": {},
   "source": [
    "<b> Overlap of sample and population eigenvectors for sample covariance matrices with power-law noise</b>\n",
    "\n",
    "In this note we examine the behavior of the following sample covariance matrix.  Let $Z$ be an $N \\times M$ matrix of iid Gaussians with variance $1$.  We construct the following vector $\\gamma_i$ from the $M$ quantiles of the measure, (note the prefactor $64$ is the normalization constant)\n",
    "$$\n",
    "d F ( t ) = 64 (1 - t)^3 \\mathbb{1}_{ \\{ \\frac{1}{2} < t <1 \\} } dt\n",
    "$$\n",
    "via\n",
    "$$\n",
    "\\frac{i-1}{N} = \\int_{ \\gamma_i}^{1} d F (t), \\qquad \\gamma_i = 1 - \\frac{1}{2} \\left( \\frac{i-1}{N} \\right)^{\\frac{1}{4} }\n",
    "$$\n",
    "We construct the matrix $X$ with entries $X_{ij} = Z_{ij}\\sqrt{ \\gamma_j } $.  The sample covariance matrix we examine is then,\n",
    "$$\n",
    "H := \\frac{1}{N} X^* X.\n",
    "$$\n",
    "Importantly, the population covariance matrix $\\Sigma$ is diagonal with $i$th entry equal to $\\gamma_i$.  Its spectral distribution converges to $F$.\n",
    "\n",
    "Recall the function $\\psi$ defined by\n",
    "$$\n",
    "\\psi( \\alpha ) = \\alpha + \\gamma \\alpha \\int \\frac{ t d F (t) }{ \\alpha - t }, \\qquad \\gamma = \\frac{M}{N}.\n",
    "$$\n",
    "If we have the inequality,\n",
    "$$\n",
    "0 < \\psi' (1) = 1 - \\gamma \\int \\frac{ t^2 d F (t) }{ (1-t)^2} = 1 - \\gamma \\frac{11}{3},\n",
    "$$\n",
    "then the limiting DOS of $H$ has a power law tail.  Else, it has a square-root tail.\n",
    "\n",
    "We are interested in the overlap of the top few sample eigenvectors with the population eigenvectors (which are just coordinate vectors).  From the theory, the right spectral edge is,\n",
    "$$\n",
    "\\psi (1) = 1+5 \\gamma/3,\n",
    "$$\n",
    "and the overlap function at the spectral edge (for lack of better terminology) is,\n",
    "$$\n",
    "\\frac{1 \\psi' (1) }{ \\psi (1) } = \\frac{1 - \\frac{11 \\gamma}{3} } { 1+ \\frac{5 \\gamma}{3} }\n",
    "$$"
   ]
  },
  {
   "cell_type": "markdown",
   "metadata": {},
   "source": [
    "<b>1.</b> First we simulate the above matrix with $N=100$ and $M=500$, $n=200$ times.  Here, $\\gamma = 1/5$ which ensures the power law tail in the limiting DoS."
   ]
  },
  {
   "cell_type": "code",
   "execution_count": 1,
   "metadata": {},
   "outputs": [],
   "source": [
    "import main\n",
    "import imp\n",
    "import numpy as np\n",
    "imp.reload(main)\n",
    "N=2500\n",
    "M=500\n",
    "n=200\n",
    "eigenvalues = np.zeros((n, M))\n",
    "eigenvectors = np.zeros((n, M, M))\n",
    "minor_eig = np.zeros((n, M-1))\n",
    "for i in range(n):\n",
    "    U, S, V, S2 = main.powerTailWishart(N, M)\n",
    "    eigenvalues[i, :] = S\n",
    "    eigenvectors[i, :, :] = V\n",
    "    minor_eig[i, :] = S2\n"
   ]
  },
  {
   "cell_type": "code",
   "execution_count": 2,
   "metadata": {},
   "outputs": [
    {
     "data": {
      "image/png": "[encoded data removed]",
      "text/plain": [
       "<Figure size 432x288 with 1 Axes>"
      ]
     },
     "metadata": {
      "needs_background": "light"
     },
     "output_type": "display_data"
    }
   ],
   "source": [
    "import matplotlib.pyplot as plt\n",
    "plt.hist(eigenvalues.flatten(), bins=100)\n",
    "plt.show()"
   ]
  },
  {
   "cell_type": "markdown",
   "metadata": {},
   "source": [
    "<b>2.</b> Here is a histogram of the quantiles $\\gamma_i$."
   ]
  },
  {
   "cell_type": "code",
   "execution_count": 3,
   "metadata": {},
   "outputs": [
    {
     "data": {
      "image/png": "[encoded data removed]",
      "text/plain": [
       "<Figure size 432x288 with 1 Axes>"
      ]
     },
     "metadata": {
      "needs_background": "light"
     },
     "output_type": "display_data"
    }
   ],
   "source": [
    "imp.reload(main)\n",
    "gam = main.makeGamma(M)\n",
    "plt.hist(gam, bins=50)\n",
    "plt.show()"
   ]
  },
  {
   "cell_type": "markdown",
   "metadata": {},
   "source": [
    "<b>3.</b> The limiting value of the overlap between population and sample eigenvectors for population eigenvalues at $1$ is\n",
    "$$\n",
    "\\frac{1 \\psi' (1) }{ \\psi (1) } = \\frac{1 - \\frac{11 \\gamma}{3} } { 1+ \\frac{5 \\gamma}{3} } = 0.2\n",
    "$$\n",
    "Below we report the average squared overlap over the $n=200$ trials of the sample and population eigenvalues for the largest $10$ eigenvalues, and plot the values against the average sample eigenvalue position.\n",
    "\n",
    "The squared overlap should be compared to the value $M^{-1} = 0.002$ which is the value for a totally delocalized vector."
   ]
  },
  {
   "cell_type": "code",
   "execution_count": 4,
   "metadata": {},
   "outputs": [
    {
     "name": "stdout",
     "output_type": "stream",
     "text": [
      "Overlaps of the top 10 eigenvectors in descending order: [0.04596004 0.02806983 0.01612276 0.01454201 0.01309377 0.0097396\n",
      " 0.01055247 0.00872251 0.00917393 0.00741726]\n"
     ]
    },
    {
     "data": {
      "image/png": "[encoded data removed]",
      "text/plain": [
       "<Figure size 432x288 with 1 Axes>"
      ]
     },
     "metadata": {
      "needs_background": "light"
     },
     "output_type": "display_data"
    }
   ],
   "source": [
    "V = np.einsum('ijj->ij', eigenvectors[:, 0:10, 0:10])\n",
    "V = np.power(V, 2.0)\n",
    "vec_mean = np.mean(V, axis=0)\n",
    "eig_mean = np.mean(eigenvalues[:, 0:10], axis=0)\n",
    "print('Overlaps of the top 10 eigenvectors in descending order:', vec_mean)\n",
    "plt.scatter(eig_mean, vec_mean)\n",
    "plt.xlabel('mean eigenvalue')\n",
    "plt.ylabel('mean squared overlap')\n",
    "plt.plot(eig_mean, 0.2*np.ones(10), color='red', label='theoretical signal 0.2')\n",
    "plt.plot(eig_mean, 0.002*np.ones(10), color='green', label='theoretical null 0.002')\n",
    "plt.legend()\n",
    "plt.show()"
   ]
  },
  {
   "cell_type": "markdown",
   "metadata": {},
   "source": [
    "<b>4.</b> The next question is whether we can \"predict\" the blue dots in the above plot.  The theoretical limit is the function,\n",
    "$$\n",
    "\\eta (p) := \\frac{ p \\psi' ( p ) }{ \\psi (p)}.\n",
    "$$\n",
    "However, this works only for $p > 1$.  We want to try to make up for this finite $N$ effect; when $p = \\gamma_i$, a quantile, let's take $F^{(i)}$ to be a discrete measure supported on the $M-1$ points $\\{ \\gamma_j \\}_{\\{ j \\neq i \\} }$. I.e., we leave out $\\gamma_i$ from the definition of $F^{(i)}$,\n",
    "$$\n",
    "F^{(i)}(x) = \\frac{1}{M-1} \\sum_{j\\neq i } \\delta_{j} (x)\n",
    "$$"
   ]
  },
  {
   "cell_type": "code",
   "execution_count": 5,
   "metadata": {},
   "outputs": [
    {
     "data": {
      "text/plain": [
       "array([ -1.24464626,  -2.3447672 ,  -3.4938212 ,  -4.69086795,\n",
       "        -5.92843253,  -7.19960542,  -8.49869729,  -9.82109912,\n",
       "       -11.16306127, -12.52150501])"
      ]
     },
     "execution_count": 5,
     "metadata": {},
     "output_type": "execute_result"
    }
   ],
   "source": [
    "imp.reload(main)\n",
    "theorN = np.zeros(10)\n",
    "for i in range(10):\n",
    "    theorN[i] = main.eta_dropout(i, M, N)\n",
    "theorN"
   ]
  },
  {
   "cell_type": "code",
   "execution_count": null,
   "metadata": {},
   "outputs": [],
   "source": [
    "import main\n",
    "import imp\n",
    "import numpy as np\n",
    "imp.reload(main)\n",
    "N=25000\n",
    "M=5000\n",
    "n=1\n",
    "eigenvalues = np.zeros((n, M))\n",
    "eigenvectors = np.zeros((n, M, M))\n",
    "minor_eig = np.zeros((n, M-1))\n",
    "for i in range(n):\n",
    "    U, S, V, S2 = main.powerTailWishart(N, M)\n",
    "    eigenvalues[i, :] = S\n",
    "    eigenvectors[i, :, :] = V\n",
    "    minor_eig[i, :] = S2\n"
   ]
  },
  {
   "cell_type": "code",
   "execution_count": 5,
   "metadata": {},
   "outputs": [],
   "source": [
    "import matplotlib.pyplot as plt\n",
    "import main\n",
    "import imp\n",
    "imp.reload(main)\n",
    "import numpy as np\n",
    "\n",
    "N = 500\n",
    "M = 100\n",
    "gamma = M/N\n",
    "n = 100\n",
    "eig = np.zeros(n)\n",
    "v = np.zeros((n, M))\n",
    "est = np.zeros(n) \n",
    "for i in range(n):\n",
    "    U, S, V, S2 = main.powerTailWishart(N, M)\n",
    "    eig[i]=S[0]\n",
    "    dif = S[0] -S2\n",
    "    \n",
    "    dif = 1 / dif\n",
    "    es = gamma*np.mean(dif)*S[0] + (1 - gamma)\n",
    "    es = es / (gamma*np.mean(dif*dif)*S[0]*S[0]+ (1- gamma) )\n",
    "    \n",
    "\n",
    "    est[i] = es\n",
    "    v[i, :]=np.diag(V)\n",
    "v = np.power(v, 2.0)"
   ]
  },
  {
   "cell_type": "code",
   "execution_count": 6,
   "metadata": {},
   "outputs": [
    {
     "data": {
      "text/plain": [
       "0.25737789166305874"
      ]
     },
     "execution_count": 6,
     "metadata": {},
     "output_type": "execute_result"
    }
   ],
   "source": [
    "np.mean(est)"
   ]
  },
  {
   "cell_type": "code",
   "execution_count": 7,
   "metadata": {},
   "outputs": [
    {
     "name": "stdout",
     "output_type": "stream",
     "text": [
      "Mean v_0^2= 0.29530230888395537\n",
      "Mean lambda_1= 1.336313963647686\n"
     ]
    }
   ],
   "source": [
    "print('Mean v_0^2=',np.mean(v[:, 0]))\n",
    "print('Mean lambda_1=',np.mean(eig))"
   ]
  },
  {
   "cell_type": "code",
   "execution_count": 126,
   "metadata": {},
   "outputs": [
    {
     "data": {
      "text/plain": [
       "0.2395818397509247"
      ]
     },
     "execution_count": 126,
     "metadata": {},
     "output_type": "execute_result"
    }
   ],
   "source": [
    "imp.reload(main)\n",
    "1.001*main.psider(1.001)/main.Hemp(1.001)"
   ]
  },
  {
   "cell_type": "code",
   "execution_count": 7,
   "metadata": {},
   "outputs": [],
   "source": [
    "import matplotlib.pyplot as plt\n",
    "import main\n",
    "import imp\n",
    "imp.reload(main)\n",
    "import numpy as np\n",
    "\n",
    "N = 2500\n",
    "M = 500\n",
    "gamma = M/N\n",
    "n = 200\n",
    "\n",
    "spikes = np.array([0.92, 0.94, 0.96, 0.98, 1, 1.2, 1.4, 1.6, 1.8, 2.0])-1.0\n",
    "eigs = {}\n",
    "v1 = {}\n",
    "v2 = {}\n",
    "\n",
    "for spike in spikes:\n",
    "    eigs[str(spike)] = np.zeros(n)\n",
    "    v1[str(spike)] = np.zeros((n, 10))\n",
    "    v2[str(spike)] = np.zeros((n, 10))\n",
    "    for i in range(n):\n",
    "        U, S, V = main.powerLawSpiked(N, M, spike)\n",
    "        eigs[str(spike)][i]=S[0]\n",
    "        v1[str(spike)][i, :]= V[0, 0:10]\n",
    "        v2[str(spike)][i, :]=V[1, 0:10]\n"
   ]
  },
  {
   "cell_type": "code",
   "execution_count": 8,
   "metadata": {},
   "outputs": [],
   "source": [
    "v11 = np.zeros(len(spikes))\n",
    "for i, spike in enumerate(spikes):\n",
    "    v11[i] = np.mean(np.power(v1[str(spike)][:, 0], 2.0))"
   ]
  },
  {
   "cell_type": "code",
   "execution_count": 14,
   "metadata": {},
   "outputs": [
    {
     "data": {
      "image/png": "[encoded data removed]",
      "text/plain": [
       "<Figure size 432x288 with 1 Axes>"
      ]
     },
     "metadata": {
      "needs_background": "light"
     },
     "output_type": "display_data"
    }
   ],
   "source": [
    "imp.reload(main)\n",
    "x = np.arange(101)/100*1.08-0.08+1\n",
    "y = np.zeros(len(x))\n",
    "for i in range(len(x)):\n",
    "    y[i] = main.eta(x[i])\n",
    "plt.scatter(spikes, v11)\n",
    "plt.plot(x-1, y)\n",
    "plt.show()"
   ]
  },
  {
   "cell_type": "code",
   "execution_count": 15,
   "metadata": {},
   "outputs": [],
   "source": [
    "J = np.array([])\n",
    "for i in range(100):\n",
    "    U, S, V = main.powerLawSpiked(N, M, 0.0)\n",
    "    J = np.append(J, S)"
   ]
  },
  {
   "cell_type": "code",
   "execution_count": 17,
   "metadata": {},
   "outputs": [
    {
     "data": {
      "image/png": "[encoded data removed]",
      "text/plain": [
       "<Figure size 432x288 with 1 Axes>"
      ]
     },
     "metadata": {
      "needs_background": "light"
     },
     "output_type": "display_data"
    }
   ],
   "source": [
    "plt.hist(J, density=True, bins=100)\n",
    "plt.show()"
   ]
  },
  {
   "cell_type": "code",
   "execution_count": 43,
   "metadata": {},
   "outputs": [],
   "source": [
    "import main\n",
    "import imp\n",
    "import numpy as np\n",
    "imp.reload(main)\n",
    "N=1250\n",
    "M=500\n",
    "n=200\n",
    "eigenvalues = np.zeros((n, M))\n",
    "eigenvectors = np.zeros((n, M, M))\n",
    "for i in range(n):\n",
    "    U, S, V, = main.randWish(N, M, main.makevar())\n",
    "    eigenvalues[i, :] = S\n",
    "    eigenvectors[i, :, :] = V\n"
   ]
  },
  {
   "cell_type": "code",
   "execution_count": 44,
   "metadata": {},
   "outputs": [
    {
     "data": {
      "image/png": "[encoded data removed]",
      "text/plain": [
       "<Figure size 432x288 with 1 Axes>"
      ]
     },
     "metadata": {
      "needs_background": "light"
     },
     "output_type": "display_data"
    }
   ],
   "source": [
    "import matplotlib.pyplot as plt\n",
    "plt.hist(eigenvalues.flatten(), bins=100)\n",
    "plt.show()"
   ]
  },
  {
   "cell_type": "code",
   "execution_count": 45,
   "metadata": {},
   "outputs": [],
   "source": [
    "k=10\n",
    "eigs = np.zeros((n,k))\n",
    "vecs = np.zeros((n, k))\n",
    "for i in range(n):\n",
    "    eigs[i, :] = eigenvalues[i, 0:k]\n",
    "    vecs[i, :] = np.diag(eigenvectors[i, 0:k,0:k])\n",
    "\n",
    "vecs = np.power(vecs, 2)"
   ]
  },
  {
   "cell_type": "code",
   "execution_count": 46,
   "metadata": {},
   "outputs": [
    {
     "data": {
      "text/plain": [
       "<matplotlib.collections.PathCollection at 0x11d8364c0>"
      ]
     },
     "execution_count": 46,
     "metadata": {},
     "output_type": "execute_result"
    },
    {
     "data": {
      "image/png": "[encoded data removed]",
      "text/plain": [
       "<Figure size 432x288 with 1 Axes>"
      ]
     },
     "metadata": {
      "needs_background": "light"
     },
     "output_type": "display_data"
    }
   ],
   "source": [
    "plt.scatter(eigs.flatten(), vecs.flatten())"
   ]
  },
  {
   "cell_type": "code",
   "execution_count": 47,
   "metadata": {},
   "outputs": [],
   "source": [
    "k=1\n",
    "eigs = np.zeros((n,k+1))\n",
    "vecs = np.zeros((n, k))\n",
    "for i in range(n):\n",
    "    eigs[i, :] = eigenvalues[i, 0:k+1]\n",
    "    vecs[i, :] = np.diag(eigenvectors[i, 0:k,0:k])\n",
    "dif = eigs[:, 0]-eigs[:, 1]\n",
    "vecs = np.power(vecs, 2)"
   ]
  },
  {
   "cell_type": "code",
   "execution_count": 48,
   "metadata": {},
   "outputs": [
    {
     "data": {
      "text/plain": [
       "<matplotlib.collections.PathCollection at 0x10c9fee50>"
      ]
     },
     "execution_count": 48,
     "metadata": {},
     "output_type": "execute_result"
    },
    {
     "data": {
      "image/png": "[encoded data removed]",
      "text/plain": [
       "<Figure size 432x288 with 1 Axes>"
      ]
     },
     "metadata": {
      "needs_background": "light"
     },
     "output_type": "display_data"
    }
   ],
   "source": [
    "plt.scatter(dif.flatten(), vecs.flatten())"
   ]
  },
  {
   "cell_type": "code",
   "execution_count": 49,
   "metadata": {},
   "outputs": [
    {
     "name": "stdout",
     "output_type": "stream",
     "text": [
      "beta: 1.0470668972154615\n",
      "beta: 0.9735204334242262\n",
      "beta: 0.798299967036649\n",
      "beta: 1.0989986257905489\n",
      "beta: 0.8614930359910279\n",
      "beta: 0.8946719527869549\n",
      "beta: 0.6522348951698629\n",
      "beta: 0.6208319987275476\n",
      "beta: 0.8157062454840475\n",
      "beta: 1.0206694078002996\n",
      "beta: 1.0135351498295804\n",
      "beta: 0.8601484994779002\n",
      "beta: 0.8966382402589119\n",
      "beta: 0.7832526228277554\n",
      "beta: 0.845955177797306\n",
      "beta: 0.8936631215372836\n",
      "beta: 0.623154015839823\n",
      "beta: 0.6841652559601437\n",
      "beta: 0.9176157756552002\n",
      "beta: 0.8878020823553955\n",
      "beta: 0.6901612979601321\n",
      "beta: 0.9235085577150034\n",
      "beta: 0.911366565256816\n",
      "beta: 1.0328447997909735\n",
      "beta: 0.7192825823498111\n",
      "beta: 0.7132996084684854\n",
      "beta: 0.6868521096824323\n",
      "beta: 0.8096190357435693\n",
      "beta: 0.4928742528173202\n",
      "beta: 1.5609537366406057\n",
      "beta: 0.8593139920179302\n",
      "beta: 0.6783451362538188\n",
      "beta: 0.8625374876392632\n",
      "beta: 1.1177292487694648\n",
      "beta: 0.6303167841173672\n",
      "beta: 0.8343369286642446\n",
      "beta: 0.642308536742129\n",
      "beta: 0.8482481766676252\n",
      "beta: 1.0182681787342636\n",
      "beta: 1.0489514799120054\n",
      "beta: 0.6868205863821554\n",
      "beta: 0.710132582070443\n",
      "beta: 1.0217944209713137\n",
      "beta: 0.8749832857758088\n",
      "beta: 0.7546678413686512\n",
      "beta: 0.8893461188051192\n",
      "beta: 0.5528724546682041\n",
      "beta: 0.6764493494008766\n",
      "beta: 1.5171566557807654\n",
      "beta: 1.0442296716325603\n",
      "beta: 0.7028790668887699\n",
      "beta: 0.7771912478477728\n",
      "beta: 1.1091355493381498\n",
      "beta: 1.0006908301846806\n",
      "beta: 0.7539811067312484\n",
      "beta: 1.0372569956653115\n",
      "beta: 1.0227778646682268\n",
      "beta: 1.0519271961432302\n",
      "beta: 0.7042100387099112\n",
      "beta: 1.1228596929224663\n",
      "beta: 1.0219534703676598\n",
      "beta: 0.8918092053001265\n",
      "beta: 0.6808865781760414\n",
      "beta: 0.683510897203056\n",
      "beta: 0.8060298139373167\n",
      "beta: 0.7038599704090504\n",
      "beta: 0.7191625233686478\n",
      "beta: 1.0064382027020002\n",
      "beta: 0.8290021134964002\n",
      "beta: 0.8577100968571434\n",
      "beta: 0.5792518984175618\n",
      "beta: 0.7625863312261294\n",
      "beta: 0.9072620988280491\n",
      "beta: 0.5116925354104572\n",
      "beta: 0.825620691529715\n",
      "beta: 0.9230395356949895\n",
      "beta: 0.8019749604479512\n",
      "beta: 0.615247311009869\n",
      "beta: 0.6220067531802584\n",
      "beta: 1.0266201253486813\n",
      "beta: 0.6758210612301295\n",
      "beta: 0.882190809852772\n",
      "beta: 0.7071849773224491\n",
      "beta: 0.8364401164547437\n",
      "beta: 0.74740792395831\n",
      "beta: 0.6182041036313028\n",
      "beta: 0.6430281569041492\n",
      "beta: 1.2360751492929711\n",
      "beta: 0.774992063950824\n",
      "beta: 0.9396215772409131\n",
      "beta: 0.6042398317433186\n",
      "beta: 1.0517846781033147\n",
      "beta: 1.0546864180078526\n",
      "beta: 0.9882700089574716\n",
      "beta: 0.8096572519263123\n",
      "beta: 0.6689903774848146\n",
      "beta: 0.7688749197054022\n",
      "beta: 0.5685032047320434\n",
      "beta: 1.1412611720611394\n",
      "beta: 0.6880499817120119\n",
      "beta: 1.000925516314143\n",
      "beta: 0.8704099933276939\n",
      "beta: 1.199327446936963\n",
      "beta: 0.671665337039522\n",
      "beta: 1.5327262983109942\n",
      "beta: 1.0470394069484157\n",
      "beta: 1.3012212456564054\n",
      "beta: 1.1315557640311704\n",
      "beta: 0.9150089699679239\n",
      "beta: 0.893861051060862\n",
      "beta: 0.7585158085432869\n",
      "beta: 0.5583786880234651\n",
      "beta: 0.7489692717655093\n",
      "beta: 0.8723607962262283\n",
      "beta: 0.7296404445275361\n",
      "beta: 0.8549331262562473\n",
      "beta: 1.5257852999409398\n",
      "beta: 1.1065256112172752\n",
      "beta: 0.6272354581422002\n",
      "beta: 0.8537118443011189\n",
      "beta: 0.8745102456392857\n",
      "beta: 0.8235312829999094\n",
      "beta: 1.1887097726215714\n",
      "beta: 0.9888087850053053\n",
      "beta: 0.6974012881682435\n",
      "beta: 1.5144364794430758\n",
      "beta: 1.125430805125452\n",
      "beta: 1.2029801775779136\n",
      "beta: 0.6911087570252366\n",
      "beta: 0.617419099552874\n",
      "beta: 1.0878212703459926\n",
      "beta: 0.6294543350189231\n",
      "beta: 0.8789127063342759\n",
      "beta: 0.7266579591640503\n",
      "beta: 0.6344764622385761\n",
      "beta: 0.8964917308975376\n",
      "beta: 0.8004262717018118\n",
      "beta: 0.6616432210605057\n",
      "beta: 0.711596948862846\n",
      "beta: 0.7848428858473931\n",
      "beta: 0.780765011023187\n",
      "beta: 0.8453588926309977\n",
      "beta: 0.7857718053177857\n",
      "beta: 0.88727827090412\n",
      "beta: 0.8895596883491625\n",
      "beta: 0.8648342150006407\n",
      "beta: 0.8725799904057399\n",
      "beta: 0.7667654870335315\n",
      "beta: 0.8956176005691818\n",
      "beta: 0.8092720139790119\n",
      "beta: 0.8397418319771613\n",
      "beta: 0.9440379154393893\n",
      "beta: 0.5563260215516145\n",
      "beta: 0.7896014254643381\n",
      "beta: 1.0077452961841038\n",
      "beta: 0.8294577257296889\n",
      "beta: 1.0953041773572296\n",
      "beta: 0.8100637065027356\n",
      "beta: 0.7926959848969919\n",
      "beta: 1.0127832469123386\n",
      "beta: 0.6966138477691172\n",
      "beta: 0.8082743606319363\n",
      "beta: 0.7489779570277774\n",
      "beta: 0.664164857634119\n",
      "beta: 0.7208908394545362\n",
      "beta: 0.7376715168384527\n",
      "beta: 0.809887945163049\n",
      "beta: 0.5570398988652867\n",
      "beta: 0.8177706295825263\n",
      "beta: 0.6314544816197781\n",
      "beta: 1.0471584180639184\n",
      "beta: 0.717728000850745\n",
      "beta: 0.7014977268861754\n",
      "beta: 0.9956957860471553\n",
      "beta: 0.764867755159267\n",
      "beta: 1.021829027962886\n",
      "beta: 0.6455411127111085\n",
      "beta: 0.6979198274416905\n",
      "beta: 1.0103931579886445\n",
      "beta: 0.6676942388714202\n",
      "beta: 0.6112191288837409\n",
      "beta: 0.7166415111106887\n",
      "beta: 1.0218676761425503\n",
      "beta: 1.1182842246183868\n",
      "beta: 0.6356484562815001\n",
      "beta: 0.8293187696984219\n",
      "beta: 0.7059161659628889\n",
      "beta: 0.6288422038949678\n",
      "beta: 0.7893811895683692\n",
      "beta: 0.9050417693627897\n",
      "beta: 0.902042493436821\n",
      "beta: 0.6847880683402696\n",
      "beta: 0.5359843912440099\n",
      "beta: 0.7064025048851693\n",
      "beta: 0.8352585060851515\n",
      "beta: 0.9584029802185015\n",
      "beta: 0.7872517223430657\n",
      "beta: 0.8388068838740659\n",
      "beta: 0.9251704545902555\n",
      "beta: 0.5637781859761463\n"
     ]
    }
   ],
   "source": [
    "imp.reload(main)\n",
    "lambs = eigenvalues[30, :]\n",
    "var = np.zeros(n)\n",
    "for i in range(n):\n",
    "    lambs = eigenvalues[i, :]\n",
    "    var[i] = main.var_est(lambs, N, M, n=100)\n"
   ]
  },
  {
   "cell_type": "code",
   "execution_count": 50,
   "metadata": {},
   "outputs": [
    {
     "data": {
      "text/plain": [
       "<matplotlib.collections.PathCollection at 0x11d9ae700>"
      ]
     },
     "execution_count": 50,
     "metadata": {},
     "output_type": "execute_result"
    },
    {
     "data": {
      "image/png": "[encoded data removed]",
      "text/plain": [
       "<Figure size 432x288 with 1 Axes>"
      ]
     },
     "metadata": {
      "needs_background": "light"
     },
     "output_type": "display_data"
    }
   ],
   "source": [
    "plt.scatter(dif.flatten()/ np.sqrt(var.flatten()), vecs.flatten())"
   ]
  },
  {
   "cell_type": "code",
   "execution_count": 9,
   "metadata": {},
   "outputs": [],
   "source": [
    "imp.reload(main)\n",
    "preds = np.zeros(n)\n",
    "for i in range(n):\n",
    "    preds[i] = main.m_est(np.append(eigenvalues[i, :], np.zeros(N-M)), 0)"
   ]
  },
  {
   "cell_type": "code",
   "execution_count": 34,
   "metadata": {},
   "outputs": [
    {
     "data": {
      "text/plain": [
       "0.2501992977024864"
      ]
     },
     "execution_count": 34,
     "metadata": {},
     "output_type": "execute_result"
    }
   ],
   "source": [
    "I = np.where(dif.flatten() / np.sqrt(var.flatten())<0.5)[0]\n",
    "np.mean(np.abs(vecs.flatten()-preds)[I])"
   ]
  },
  {
   "cell_type": "code",
   "execution_count": 29,
   "metadata": {},
   "outputs": [
    {
     "data": {
      "text/plain": [
       "<matplotlib.collections.PathCollection at 0x10d44aca0>"
      ]
     },
     "execution_count": 29,
     "metadata": {},
     "output_type": "execute_result"
    },
    {
     "data": {
      "image/png": "[encoded data removed]",
      "text/plain": [
       "<Figure size 432x288 with 1 Axes>"
      ]
     },
     "metadata": {
      "needs_background": "light"
     },
     "output_type": "display_data"
    }
   ],
   "source": [
    "plt.scatter(dif.flatten() / np.sqrt(var.flatten()), np.abs(vecs.flatten()-preds))\n"
   ]
  },
  {
   "cell_type": "code",
   "execution_count": 9,
   "metadata": {},
   "outputs": [
    {
     "data": {
      "image/png": "[encoded data removed]",
      "text/plain": [
       "<Figure size 432x288 with 1 Axes>"
      ]
     },
     "metadata": {
      "needs_background": "light"
     },
     "output_type": "display_data"
    }
   ],
   "source": [
    "gaps = eigenvalues[:, 0]-eigenvalues[:, 1]\n",
    "plt.hist(gaps, bins=30)\n",
    "plt.show()"
   ]
  },
  {
   "cell_type": "code",
   "execution_count": 76,
   "metadata": {},
   "outputs": [
    {
     "data": {
      "text/plain": [
       "(200, 500)"
      ]
     },
     "execution_count": 76,
     "metadata": {},
     "output_type": "execute_result"
    }
   ],
   "source": [
    "samp = eigenvalues[25, :]\n",
    "eigenvalues.shape"
   ]
  },
  {
   "cell_type": "code",
   "execution_count": 75,
   "metadata": {},
   "outputs": [
    {
     "data": {
      "image/png": "[encoded data removed]",
      "text/plain": [
       "<Figure size 432x288 with 1 Axes>"
      ]
     },
     "metadata": {
      "needs_background": "light"
     },
     "output_type": "display_data"
    },
    {
     "data": {
      "text/plain": [
       "array([49.81766046, 43.72009418, 30.58867105, 28.4668096 , 27.98664653,\n",
       "       27.68481309, 27.32453284, 26.01286406, 25.3667057 , 24.79927341,\n",
       "       24.50022988, 24.04345102, 23.50738408, 23.33272016, 22.5436823 ,\n",
       "       22.08908055, 21.58288249, 21.2525033 , 21.18689415, 20.74098033,\n",
       "       20.51930025, 20.16088952, 19.95622003, 19.51591616, 19.34819145,\n",
       "       19.11781403, 18.83406363, 18.70881297, 18.43014505, 18.3747291 ,\n",
       "       18.05972674, 17.91446191, 17.8275465 , 17.48634691, 17.31773836,\n",
       "       17.16068901, 17.08782219, 17.03677346, 16.84892787, 16.6912599 ,\n",
       "       16.55345374, 16.39459156, 16.26419907, 16.07736112, 16.02321368,\n",
       "       15.9344215 , 15.70039726, 15.56341856, 15.43297395, 15.41087113,\n",
       "       15.25433456, 15.12412975, 14.97351577, 14.83865012, 14.76629483,\n",
       "       14.71096905, 14.6151424 , 14.49219656, 14.31062612, 14.23609624,\n",
       "       14.16506281, 14.08591242, 13.99419264, 13.90841947, 13.85160138,\n",
       "       13.77229954, 13.6583895 , 13.53786982, 13.49445699, 13.33064904,\n",
       "       13.27984855, 13.18509329, 13.16107261, 13.08457867, 13.01165315,\n",
       "       12.90656611, 12.82815604, 12.76795546, 12.75797462, 12.5691732 ,\n",
       "       12.5012768 , 12.44620008, 12.43705864, 12.36826456, 12.3452401 ,\n",
       "       12.12727518, 12.05178468, 12.00033492, 11.89163872, 11.85665695,\n",
       "       11.75585003, 11.72765583, 11.59023422, 11.54544596, 11.53180611,\n",
       "       11.45112801, 11.32573694, 11.27736884, 11.22301584, 11.20504737,\n",
       "       11.15445892, 11.08719401, 11.05199046, 10.98760458, 10.89643661,\n",
       "       10.84868247, 10.77158925, 10.72490306, 10.68935866, 10.56289926,\n",
       "       10.47892292, 10.44977868, 10.40047239, 10.34383787, 10.30119272,\n",
       "       10.19497981, 10.16391037, 10.14698964, 10.03921324, 10.00575873,\n",
       "        9.97426645,  9.8797655 ,  9.84301976,  9.84044855,  9.7276858 ,\n",
       "        9.6965577 ,  9.68996008,  9.61084899,  9.52073747,  9.48253676,\n",
       "        9.41733342,  9.40033724,  9.37958761,  9.30886892,  9.24103295,\n",
       "        9.19781157,  9.14030714,  9.08391781,  9.01856307,  8.97457754,\n",
       "        8.92808007,  8.8985677 ,  8.81817515,  8.80554722,  8.77164259,\n",
       "        8.73565213,  8.69610206,  8.65775834,  8.5848672 ,  8.55784445,\n",
       "        8.51829687,  8.49390004,  8.47922719,  8.36549213,  8.34809672,\n",
       "        8.31231629,  8.27049224,  8.20733254,  8.12777757,  8.08923497,\n",
       "        8.06567626,  8.03402176,  7.96031962,  7.94608406,  7.89258179,\n",
       "        7.85988172,  7.78647103,  7.7595217 ,  7.74844243,  7.72155937,\n",
       "        7.67981458,  7.6470732 ,  7.60491985,  7.55375436,  7.53185806,\n",
       "        7.46883517,  7.44845686,  7.43818651,  7.38572186,  7.37359091,\n",
       "        7.30267094,  7.28654352,  7.2447074 ,  7.20928537,  7.16506396,\n",
       "        7.13152924,  7.11199325,  7.06771746,  7.05350869,  7.03849789,\n",
       "        6.96332464,  6.91479055,  6.88421694,  6.86885161,  6.82334175,\n",
       "        6.80090421,  6.75754513,  6.7167873 ,  6.68333516,  6.64813016,\n",
       "        6.59823658,  6.58758504,  6.53703849,  6.52927057,  6.51936512,\n",
       "        6.47121248,  6.43867427,  6.42328148,  6.37151301,  6.33193681,\n",
       "        6.31631259,  6.25862655,  6.21561075,  6.14860476,  6.13955689,\n",
       "        6.11709412,  6.10127777,  6.06200954,  6.05679764,  6.04748267,\n",
       "        5.98080292,  5.9609352 ,  5.94723289,  5.89213714,  5.86243459,\n",
       "        5.8590548 ,  5.80066018,  5.78578606,  5.75648611,  5.73200017,\n",
       "        5.69427804,  5.6720061 ,  5.65793074,  5.60439446,  5.59013158,\n",
       "        5.57213079,  5.51797329,  5.4858038 ,  5.47313822,  5.4332701 ,\n",
       "        5.41061075,  5.39389948,  5.38092165,  5.34332771,  5.33073392,\n",
       "        5.27595896,  5.24138334,  5.21033336,  5.20517407,  5.1970168 ,\n",
       "        5.15638729,  5.14163401,  5.1086162 ,  5.08117249,  5.05395372,\n",
       "        5.03225129,  5.00761567,  5.00041124,  4.94522286,  4.92161896,\n",
       "        4.91143906,  4.8902028 ,  4.83859766,  4.81168736,  4.78593057,\n",
       "        4.76449976,  4.7502874 ,  4.72332971,  4.70266179,  4.67604711,\n",
       "        4.65625566,  4.64636476,  4.59251635,  4.54841385,  4.53917587,\n",
       "        4.52479166,  4.51570476,  4.49261465,  4.46955933,  4.46509929,\n",
       "        4.41508884,  4.41183899,  4.39127615,  4.35889011,  4.32818963,\n",
       "        4.31361971,  4.27887409,  4.26810508,  4.22288644,  4.20793346,\n",
       "        4.17178243,  4.16634349,  4.15004829,  4.13248687,  4.11739307,\n",
       "        4.09200424,  4.05426339,  4.02641181,  4.02446815,  4.01641716,\n",
       "        3.9857964 ,  3.96800548,  3.94830724,  3.93087341,  3.91427267,\n",
       "        3.88366375,  3.85654605,  3.83721319,  3.82786431,  3.78407007,\n",
       "        3.75450275,  3.74817776,  3.72187718,  3.71181556,  3.68359343,\n",
       "        3.67104045,  3.65340248,  3.63208487,  3.6138212 ,  3.58172735,\n",
       "        3.55395378,  3.53631719,  3.52870524,  3.52021991,  3.48775705,\n",
       "        3.46142334,  3.44905149,  3.42272034,  3.40036191,  3.38896457,\n",
       "        3.36624454,  3.34785228,  3.33153553,  3.3069197 ,  3.29933392,\n",
       "        3.26280685,  3.25620325,  3.23325358,  3.21238819,  3.20013956,\n",
       "        3.18567792,  3.16077599,  3.14548271,  3.13153462,  3.11556095,\n",
       "        3.09374245,  3.06386235,  3.06031102,  3.05528054,  3.02487426,\n",
       "        3.00553528,  2.98056516,  2.96260624,  2.94410558,  2.92823316,\n",
       "        2.92106276,  2.90457496,  2.89345228,  2.8833363 ,  2.8536327 ,\n",
       "        2.83793139,  2.80142944,  2.78098762,  2.7782845 ,  2.76749791,\n",
       "        2.75128976,  2.73296161,  2.72304035,  2.69649267,  2.68420339,\n",
       "        2.67102929,  2.64056222,  2.63362889,  2.6154023 ,  2.59018399,\n",
       "        2.58115738,  2.57635404,  2.56101858,  2.55152883,  2.52423531,\n",
       "        2.507267  ,  2.49361635,  2.47963855,  2.46555581,  2.44727812,\n",
       "        2.42620828,  2.42416803,  2.39695235,  2.37315995,  2.36774851,\n",
       "        2.35240605,  2.34019777,  2.3238251 ,  2.28676775,  2.28231064,\n",
       "        2.26299393,  2.25822794,  2.24738359,  2.22784056,  2.21155163,\n",
       "        2.2038841 ,  2.20021773,  2.18661101,  2.16463396,  2.14784777,\n",
       "        2.13212143,  2.10413988,  2.08279719,  2.0822139 ,  2.05480847,\n",
       "        2.04059518,  2.03321456,  2.01663881,  1.99237865,  1.97896183,\n",
       "        1.96917968,  1.95109435,  1.93529327,  1.93010912,  1.91405768,\n",
       "        1.89938899,  1.88590528,  1.85514456,  1.84787273,  1.8395847 ,\n",
       "        1.83025519,  1.79785869,  1.79129703,  1.78441327,  1.77021066,\n",
       "        1.76543822,  1.74080055,  1.72716074,  1.71397781,  1.70263466,\n",
       "        1.68109978,  1.67403025,  1.6608552 ,  1.64828307,  1.64248869,\n",
       "        1.62657363,  1.61515037,  1.59433908,  1.58771886,  1.58348301,\n",
       "        1.56724428,  1.55532719,  1.54415646,  1.51930947,  1.51037891,\n",
       "        1.49743629,  1.47582473,  1.46292455,  1.46011098,  1.43804451,\n",
       "        1.42846626,  1.39722191,  1.39572768,  1.36782266,  1.35109192,\n",
       "        1.33488607,  1.32621149,  1.32452913,  1.31166712,  1.29572013,\n",
       "        1.2877381 ,  1.27000878,  1.25539693,  1.2416451 ,  1.21580376,\n",
       "        1.20253927,  1.19003201,  1.18224161,  1.1771721 ,  1.15674421,\n",
       "        1.14824801,  1.13822773,  1.12264169,  1.10436872,  1.09051185,\n",
       "        1.08346693,  1.06999234,  1.05133485,  1.04663216,  1.02463599,\n",
       "        1.00700935,  1.00351007,  0.99034969,  0.98535372,  0.95374682,\n",
       "        0.94544463,  0.92116613,  0.90233639,  0.8849746 ,  0.86133378,\n",
       "        0.8567485 ,  0.82106533,  0.78659592,  0.77005841,  0.74015942])"
      ]
     },
     "execution_count": 75,
     "metadata": {},
     "output_type": "execute_result"
    }
   ],
   "source": [
    "plt.hist(samp, bins=50)\n",
    "plt.show()\n",
    "samp"
   ]
  },
  {
   "cell_type": "code",
   "execution_count": 71,
   "metadata": {},
   "outputs": [],
   "source": [
    "imp.reload(main)\n",
    "a, b, h, c, edges = main.fitter(samp)\n",
    "fits = np.power(c, a)*np.exp(b)"
   ]
  },
  {
   "cell_type": "code",
   "execution_count": 86,
   "metadata": {},
   "outputs": [],
   "source": [
    "eee = eigenvalues[:, 0]-eigenvalues[:, 1:500].transpose()\n",
    "eee = eee.transpose()\n",
    "hh = np.histogram(eee.flatten(), bins=edges)[0]/n"
   ]
  },
  {
   "cell_type": "code",
   "execution_count": 78,
   "metadata": {},
   "outputs": [],
   "source": []
  },
  {
   "cell_type": "code",
   "execution_count": 87,
   "metadata": {},
   "outputs": [
    {
     "data": {
      "image/png": "[encoded data removed]",
      "text/plain": [
       "<Figure size 432x288 with 1 Axes>"
      ]
     },
     "metadata": {
      "needs_background": "light"
     },
     "output_type": "display_data"
    }
   ],
   "source": [
    "plt.scatter(c, h)\n",
    "plt.scatter(c, fits)\n",
    "plt.scatter(c, hh)\n",
    "plt.show()"
   ]
  },
  {
   "cell_type": "code",
   "execution_count": 43,
   "metadata": {},
   "outputs": [
    {
     "data": {
      "text/plain": [
       "(21,)"
      ]
     },
     "execution_count": 43,
     "metadata": {},
     "output_type": "execute_result"
    }
   ],
   "source": [
    "h, b = np.histogram(rest,20)\n",
    "h.shape\n",
    "b.shape"
   ]
  },
  {
   "cell_type": "code",
   "execution_count": 56,
   "metadata": {},
   "outputs": [],
   "source": [
    "hh = np.histogram(eigenvalues.flatten(), bins=edges)"
   ]
  },
  {
   "cell_type": "code",
   "execution_count": 83,
   "metadata": {},
   "outputs": [
    {
     "data": {
      "image/png": "[encoded data removed]",
      "text/plain": [
       "<Figure size 432x288 with 1 Axes>"
      ]
     },
     "metadata": {
      "needs_background": "light"
     },
     "output_type": "display_data"
    }
   ],
   "source": [
    "\n"
   ]
  },
  {
   "cell_type": "code",
   "execution_count": null,
   "metadata": {},
   "outputs": [],
   "source": []
  }
 ],
 "metadata": {
  "kernelspec": {
   "display_name": "Python 3",
   "language": "python",
   "name": "python3"
  },
  "language_info": {
   "codemirror_mode": {
    "name": "ipython",
    "version": 3
   },
   "file_extension": ".py",
   "mimetype": "text/x-python",
   "name": "python",
   "nbconvert_exporter": "python",
   "pygments_lexer": "ipython3",
   "version": "3.8.0"
  }
 },
 "nbformat": 4,
 "nbformat_minor": 2
}
