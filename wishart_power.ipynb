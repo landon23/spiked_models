{
 "cells": [
  {
   "cell_type": "markdown",
   "metadata": {},
   "source": [
    "In this note we examine the behavior of the following sample covariance matrix.  Let $Z$ be an $N \\times M$ matrix of iid Gaussians with variance $1$.  We construct the following vector $\\gamma_i$ from the $M$ quantiles of the measure,\n",
    "$$\n",
    "d H ( t ) = 64 (1 - t)^3 \\mathbb{1}_{ \\{ \\frac{1}{2} < t <1 \\} } dt\n",
    "$$\n",
    "via\n",
    "$$\n",
    "\\frac{i-1}{N} = \\int_{ \\gamma_i}^{1} d H (t), \\qquad \\gamma_i = 1 - \\frac{1}{2} \\left( \\frac{i-1}{N} \\right)^{\\frac{1}{4} }\n",
    "$$\n",
    "Then, the matrix we consider is $X$ with entries $X_{ij} = Z_{ij}\\sqrt{ \\gamma_j } $.  The sample covariance matrix we examine is then,\n",
    "$$\n",
    "H := \\frac{1}{N} X^* X.\n",
    "$$\n",
    "Recall the function $\\psi$ defined by\n",
    "$$\n",
    "\\psi( \\alpha ) = \\alpha + \\gamma \\alpha \\int \\frac{ t d H (t) }{ \\alpha - t }, \\qquad \\gamma = \\frac{M}{N}.\n",
    "$$\n",
    "If we have the inequality,\n",
    "$$\n",
    "1 < \\psi' (1) = 1 - \\gamma \\int \\frac{ t^2 d H (t) }{ (1-t)^2} = 1 - \\gamma \\frac{11}{3},\n",
    "$$\n",
    "then the limiting DOS of $H$ has a power law tail.  Else, it has a square-root tail.\n",
    "\n",
    "We are interested in the overlap of the top few eigenvectors with the "
   ]
  },
  {
   "cell_type": "code",
   "execution_count": null,
   "metadata": {},
   "outputs": [],
   "source": []
  }
 ],
 "metadata": {
  "kernelspec": {
   "display_name": "Python 3",
   "language": "python",
   "name": "python3"
  },
  "language_info": {
   "codemirror_mode": {
    "name": "ipython",
    "version": 3
   },
   "file_extension": ".py",
   "mimetype": "text/x-python",
   "name": "python",
   "nbconvert_exporter": "python",
   "pygments_lexer": "ipython3",
   "version": "3.8.0"
  }
 },
 "nbformat": 4,
 "nbformat_minor": 2
}
