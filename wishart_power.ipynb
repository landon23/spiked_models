{
 "cells": [
  {
   "cell_type": "markdown",
   "metadata": {},
   "source": [
    "In this note we examine the behavior of the following sample covariance matrix.  Let $Z$ be an $N \\times M$ matrix of iid Gaussians with variance $1$.  We construct the following vector $\\gamma_i$ from the $M$ quantiles of the measure,\n",
    "$$\n",
    "d H ( t ) = 64 (1 - t)^3 \\mathbb{1}_{ \\{ \\frac{1}{2} < t <1 \\} } dt\n",
    "$$\n",
    "via\n",
    "$$\n",
    "\\frac{i-1}{N} = \\int_{ \\gamma_i}^{1} d H (t), \\qquad \\gamma_i = 1 - \\frac{1}{2} \\left( \\frac{i-1}{N} \\right)^{\\frac{1}{4} }\n",
    "$$\n",
    "Then, the matrix we consider is $X$ with entries $X_{ij} = Z_{ij}\\sqrt{ \\gamma_j } $.  The sample covariance matrix we examine is then,\n",
    "$$\n",
    "H := \\frac{1}{N} X^* X.\n",
    "$$\n",
    "Recall the function $\\psi$ defined by\n",
    "$$\n",
    "\\psi( \\alpha ) = \\alpha + \\gamma \\alpha \\int \\frac{ t d H (t) }{ \\alpha - t }, \\qquad \\gamma = \\frac{M}{N}.\n",
    "$$\n",
    "If we have the inequality,\n",
    "$$\n",
    "1 < \\psi' (1) = 1 - \\gamma \\int \\frac{ t^2 d H (t) }{ (1-t)^2} = 1 - \\gamma \\frac{11}{3},\n",
    "$$\n",
    "then the limiting DOS of $H$ has a power law tail.  Else, it has a square-root tail.\n",
    "\n",
    "We are interested in the overlap of the top few sample eigenvectors with the population eigenvectors (which are just coordinate vectors).  From the theory, the right spectral edge is,\n",
    "$$\n",
    "\\psi (1) = 1+5 \\gamma/3,\n",
    "$$\n",
    "and the overlap function (for lack of better terminology) is,\n",
    "$$\n",
    "\\frac{1 \\psi' (1) }{ \\psi (1) } = \\frac{1 - \\frac{11 \\gamma}{3} } { 1+ \\frac{5 \\gamma}{3} }\n",
    "$$"
   ]
  },
  {
   "cell_type": "code",
   "execution_count": 127,
   "metadata": {},
   "outputs": [],
   "source": [
    "import matplotlib.pyplot as plt\n",
    "import main\n",
    "import imp\n",
    "imp.reload(main)\n",
    "import numpy as np\n",
    "\n",
    "N = 2500\n",
    "M = 500\n",
    "gamma = M/N\n",
    "n = 200\n",
    "eig = np.zeros(n)\n",
    "v = np.zeros((n, M))\n",
    "est = np.zeros(n) \n",
    "for i in range(n):\n",
    "    U, S, V, S2 = main.powerTailWishart(N, M)\n",
    "    eig[i]=S[0]\n",
    "    dif = S[0] -S2\n",
    "    \n",
    "    dif = 1 / dif\n",
    "    es = gamma*np.mean(dif)*S[0] + (1 - gamma)\n",
    "    es = es / (gamma*np.mean(dif*dif)*S[0]*S[0]+ (1- gamma) )\n",
    "    \n",
    "\n",
    "    est[i] = es\n",
    "    v[i, :]=np.diag(V)\n",
    "v = np.power(v, 2.0)"
   ]
  },
  {
   "cell_type": "code",
   "execution_count": 128,
   "metadata": {},
   "outputs": [
    {
     "data": {
      "text/plain": [
       "0.22095154730671093"
      ]
     },
     "execution_count": 128,
     "metadata": {},
     "output_type": "execute_result"
    }
   ],
   "source": [
    "np.mean(est)"
   ]
  },
  {
   "cell_type": "code",
   "execution_count": 129,
   "metadata": {},
   "outputs": [
    {
     "name": "stdout",
     "output_type": "stream",
     "text": [
      "Mean v_0^2= 0.23908524721118898\n",
      "Mean lambda_1= 1.3340838892231037\n"
     ]
    }
   ],
   "source": [
    "print('Mean v_0^2=',np.mean(v[:, 0]))\n",
    "print('Mean lambda_1=',np.mean(eig))"
   ]
  },
  {
   "cell_type": "code",
   "execution_count": 126,
   "metadata": {},
   "outputs": [
    {
     "data": {
      "text/plain": [
       "0.2395818397509247"
      ]
     },
     "execution_count": 126,
     "metadata": {},
     "output_type": "execute_result"
    }
   ],
   "source": [
    "imp.reload(main)\n",
    "1.001*main.psider(1.001)/main.Hemp(1.001)"
   ]
  },
  {
   "cell_type": "code",
   "execution_count": 7,
   "metadata": {},
   "outputs": [],
   "source": [
    "import matplotlib.pyplot as plt\n",
    "import main\n",
    "import imp\n",
    "imp.reload(main)\n",
    "import numpy as np\n",
    "\n",
    "N = 2500\n",
    "M = 500\n",
    "gamma = M/N\n",
    "n = 200\n",
    "\n",
    "spikes = np.array([0.92, 0.94, 0.96, 0.98, 1, 1.2, 1.4, 1.6, 1.8, 2.0])-1.0\n",
    "eigs = {}\n",
    "v1 = {}\n",
    "v2 = {}\n",
    "\n",
    "for spike in spikes:\n",
    "    eigs[str(spike)] = np.zeros(n)\n",
    "    v1[str(spike)] = np.zeros((n, 10))\n",
    "    v2[str(spike)] = np.zeros((n, 10))\n",
    "    for i in range(n):\n",
    "        U, S, V = main.powerLawSpiked(N, M, spike)\n",
    "        eigs[str(spike)][i]=S[0]\n",
    "        v1[str(spike)][i, :]= V[0, 0:10]\n",
    "        v2[str(spike)][i, :]=V[1, 0:10]\n"
   ]
  },
  {
   "cell_type": "code",
   "execution_count": 8,
   "metadata": {},
   "outputs": [],
   "source": [
    "v11 = np.zeros(len(spikes))\n",
    "for i, spike in enumerate(spikes):\n",
    "    v11[i] = np.mean(np.power(v1[str(spike)][:, 0], 2.0))"
   ]
  },
  {
   "cell_type": "code",
   "execution_count": 14,
   "metadata": {},
   "outputs": [
    {
     "data": {
      "image/png": "[encoded data removed]",
      "text/plain": [
       "<Figure size 432x288 with 1 Axes>"
      ]
     },
     "metadata": {
      "needs_background": "light"
     },
     "output_type": "display_data"
    }
   ],
   "source": [
    "imp.reload(main)\n",
    "x = np.arange(101)/100*1.08-0.08+1\n",
    "y = np.zeros(len(x))\n",
    "for i in range(len(x)):\n",
    "    y[i] = main.eta(x[i])\n",
    "plt.scatter(spikes, v11)\n",
    "plt.plot(x-1, y)\n",
    "plt.show()"
   ]
  },
  {
   "cell_type": "code",
   "execution_count": 15,
   "metadata": {},
   "outputs": [],
   "source": [
    "J = np.array([])\n",
    "for i in range(100):\n",
    "    U, S, V = main.powerLawSpiked(N, M, 0.0)\n",
    "    J = np.append(J, S)"
   ]
  },
  {
   "cell_type": "code",
   "execution_count": 17,
   "metadata": {},
   "outputs": [
    {
     "data": {
      "image/png": "[encoded data removed]",
      "text/plain": [
       "<Figure size 432x288 with 1 Axes>"
      ]
     },
     "metadata": {
      "needs_background": "light"
     },
     "output_type": "display_data"
    }
   ],
   "source": [
    "plt.hist(J, density=True, bins=100)\n",
    "plt.show()"
   ]
  },
  {
   "cell_type": "code",
   "execution_count": null,
   "metadata": {},
   "outputs": [],
   "source": []
  }
 ],
 "metadata": {
  "kernelspec": {
   "display_name": "Python 3",
   "language": "python",
   "name": "python3"
  },
  "language_info": {
   "codemirror_mode": {
    "name": "ipython",
    "version": 3
   },
   "file_extension": ".py",
   "mimetype": "text/x-python",
   "name": "python",
   "nbconvert_exporter": "python",
   "pygments_lexer": "ipython3",
   "version": "3.8.0"
  }
 },
 "nbformat": 4,
 "nbformat_minor": 2
}
