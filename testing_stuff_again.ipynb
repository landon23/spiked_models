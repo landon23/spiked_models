{
 "cells": [
  {
   "cell_type": "code",
   "execution_count": 2,
   "metadata": {},
   "outputs": [],
   "source": [
    "import numpy as np\n",
    "import imp\n",
    "import methods\n",
    "import besttest\n",
    "import matplotlib.pyplot as plt"
   ]
  },
  {
   "cell_type": "code",
   "execution_count": 3,
   "metadata": {},
   "outputs": [],
   "source": [
    "imp.reload(besttest)\n",
    "N = 1250\n",
    "M = 500\n",
    "n=200\n",
    "spikes = np.array([45])\n",
    "spikes = np.append(spikes, 5.0*np.ones(shape=249))\n",
    "#U, S, V = besttest.spikedWishart(N, M, spikes)\n",
    "n = 500\n",
    "ss = np.zeros(shape=(n, M))\n",
    "vv = np.zeros(n)\n",
    "for i in range(n):\n",
    "    U, S, V = besttest.spikedWishart(N, M, spikes)\n",
    "    ss[i, :] = S\n",
    "    vv[i] = V[0, 0]"
   ]
  },
  {
   "cell_type": "code",
   "execution_count": 8,
   "metadata": {},
   "outputs": [],
   "source": [
    "imp.reload(methods)\n",
    "sp = methods.spectrum(S, N, M, 1)"
   ]
  },
  {
   "cell_type": "code",
   "execution_count": 9,
   "metadata": {},
   "outputs": [],
   "source": [
    "sp.fit(500,100, 2)"
   ]
  },
  {
   "cell_type": "code",
   "execution_count": 11,
   "metadata": {},
   "outputs": [],
   "source": [
    "p = sp.appr_esd.dens.p\n",
    "l = sp.appr_esd.dens.l\n",
    "r = sp.appr_esd.dens.r"
   ]
  },
  {
   "cell_type": "code",
   "execution_count": 12,
   "metadata": {},
   "outputs": [],
   "source": [
    "x = np.arange(100)/100*(r-l)+l"
   ]
  },
  {
   "cell_type": "code",
   "execution_count": 13,
   "metadata": {},
   "outputs": [],
   "source": [
    "y = p(x)"
   ]
  },
  {
   "cell_type": "code",
   "execution_count": 17,
   "metadata": {},
   "outputs": [
    {
     "data": {
      "image/png": "[encoded data removed]",
      "text/plain": [
       "<Figure size 432x288 with 1 Axes>"
      ]
     },
     "metadata": {
      "needs_background": "light"
     },
     "output_type": "display_data"
    }
   ],
   "source": [
    "plt.scatter(x, y, color='red')\n",
    "ev = S[1:101]\n",
    "plt.hist(ev, bins=20, density=True, alpha=0.5)\n",
    "plt.show()"
   ]
  },
  {
   "cell_type": "code",
   "execution_count": 81,
   "metadata": {},
   "outputs": [],
   "source": [
    "imp.reload(methods)\n",
    "spp = methods.spectrum(S, N, M)"
   ]
  },
  {
   "cell_type": "code",
   "execution_count": 82,
   "metadata": {},
   "outputs": [
    {
     "name": "stdout",
     "output_type": "stream",
     "text": [
      "Number of outliers found:  1\n",
      "Index of eigenvalue that failed test:  1\n",
      "Reason: Eigenvalue within threshold sample stds of spectral edge\n"
     ]
    }
   ],
   "source": [
    "spp.auto_sq_fit(200,50,2)"
   ]
  },
  {
   "cell_type": "code",
   "execution_count": 83,
   "metadata": {},
   "outputs": [
    {
     "data": {
      "image/png": "[encoded data removed]",
      "text/plain": [
       "<Figure size 432x288 with 1 Axes>"
      ]
     },
     "metadata": {
      "needs_background": "light"
     },
     "output_type": "display_data"
    }
   ],
   "source": [
    "spp.plot_density()"
   ]
  },
  {
   "cell_type": "code",
   "execution_count": 43,
   "metadata": {},
   "outputs": [
    {
     "name": "stdout",
     "output_type": "stream",
     "text": [
      "Outlier with index 0  at location:  47.698010877366855\n",
      "Distance to nearest neighbouring eigenvalue normalized by outlier std:  19.922634386285374\n",
      "Distance to spectral edge normalized by outlier std:  19.88710695981711\n",
      "Distance to TW mean normalized by TW std: 271.9441867371327\n"
     ]
    },
    {
     "data": {
      "text/plain": [
       "[(47.698010877366855,\n",
       "  19.922634386285374,\n",
       "  19.88710695981711,\n",
       "  271.9441867371327)]"
      ]
     },
     "execution_count": 43,
     "metadata": {},
     "output_type": "execute_result"
    }
   ],
   "source": [
    "spp.outlier_diagnostics()"
   ]
  },
  {
   "cell_type": "code",
   "execution_count": 44,
   "metadata": {},
   "outputs": [
    {
     "name": "stdout",
     "output_type": "stream",
     "text": [
      "Location:  47.698010877366855\n",
      "Population eigenvalue estimate:  46.37311273961332\n",
      "Sample eigenvalue std: 1.852114995336513\n",
      "Estimated overlap: 0.9692803234512518\n",
      "Overlap standard error: 0.0008959732410231495\n"
     ]
    }
   ],
   "source": [
    "spp.report()"
   ]
  },
  {
   "cell_type": "code",
   "execution_count": 45,
   "metadata": {},
   "outputs": [],
   "source": [
    "sp = methods.spectrum(S, N, M, fit_power_law = True)\n",
    "sp.alpha = 0.51"
   ]
  },
  {
   "cell_type": "code",
   "execution_count": 46,
   "metadata": {},
   "outputs": [
    {
     "name": "stdout",
     "output_type": "stream",
     "text": [
      "Supply number of outliers\n"
     ]
    }
   ],
   "source": [
    "sp.fit(200, 50, 2)"
   ]
  },
  {
   "cell_type": "code",
   "execution_count": 47,
   "metadata": {},
   "outputs": [],
   "source": [
    "sp.nout =1\n",
    "sp.fit(200, 50, 2)"
   ]
  },
  {
   "cell_type": "code",
   "execution_count": 48,
   "metadata": {},
   "outputs": [],
   "source": [
    "sp.calc_outlier_quants()"
   ]
  },
  {
   "cell_type": "code",
   "execution_count": 49,
   "metadata": {},
   "outputs": [
    {
     "name": "stdout",
     "output_type": "stream",
     "text": [
      "Outlier with index 0  at location:  47.698010877366855\n",
      "Distance to nearest neighbouring eigenvalue normalized by outlier std:  19.922638605226812\n",
      "Distance to spectral edge normalized by outlier std:  19.885236590889836\n",
      "Distance to spectral edge normalized by density interparticle distance 410.3755800033767\n"
     ]
    },
    {
     "data": {
      "text/plain": [
       "[(47.698010877366855,\n",
       "  19.922638605226812,\n",
       "  19.885236590889836,\n",
       "  410.3755800033767)]"
      ]
     },
     "execution_count": 49,
     "metadata": {},
     "output_type": "execute_result"
    }
   ],
   "source": [
    "sp.outlier_diagnostics()"
   ]
  },
  {
   "cell_type": "code",
   "execution_count": 50,
   "metadata": {},
   "outputs": [
    {
     "name": "stdout",
     "output_type": "stream",
     "text": [
      "Location:  47.698010877366855\n",
      "Population eigenvalue estimate:  46.37310433310817\n",
      "Sample eigenvalue std: 1.8521146031211617\n",
      "Estimated overlap: 0.9692800886405054\n",
      "Overlap standard error: 0.0008959737484139708\n"
     ]
    }
   ],
   "source": [
    "sp.report()"
   ]
  },
  {
   "cell_type": "code",
   "execution_count": 51,
   "metadata": {},
   "outputs": [],
   "source": [
    "sp.alpha = None\n"
   ]
  },
  {
   "cell_type": "code",
   "execution_count": 52,
   "metadata": {},
   "outputs": [],
   "source": [
    "alphas = np.arange(100)/100*0.5+0.25"
   ]
  },
  {
   "cell_type": "code",
   "execution_count": 53,
   "metadata": {},
   "outputs": [
    {
     "data": {
      "text/plain": [
       "array([0.25 , 0.255, 0.26 , 0.265, 0.27 , 0.275, 0.28 , 0.285, 0.29 ,\n",
       "       0.295, 0.3  , 0.305, 0.31 , 0.315, 0.32 , 0.325, 0.33 , 0.335,\n",
       "       0.34 , 0.345, 0.35 , 0.355, 0.36 , 0.365, 0.37 , 0.375, 0.38 ,\n",
       "       0.385, 0.39 , 0.395, 0.4  , 0.405, 0.41 , 0.415, 0.42 , 0.425,\n",
       "       0.43 , 0.435, 0.44 , 0.445, 0.45 , 0.455, 0.46 , 0.465, 0.47 ,\n",
       "       0.475, 0.48 , 0.485, 0.49 , 0.495, 0.5  , 0.505, 0.51 , 0.515,\n",
       "       0.52 , 0.525, 0.53 , 0.535, 0.54 , 0.545, 0.55 , 0.555, 0.56 ,\n",
       "       0.565, 0.57 , 0.575, 0.58 , 0.585, 0.59 , 0.595, 0.6  , 0.605,\n",
       "       0.61 , 0.615, 0.62 , 0.625, 0.63 , 0.635, 0.64 , 0.645, 0.65 ,\n",
       "       0.655, 0.66 , 0.665, 0.67 , 0.675, 0.68 , 0.685, 0.69 , 0.695,\n",
       "       0.7  , 0.705, 0.71 , 0.715, 0.72 , 0.725, 0.73 , 0.735, 0.74 ,\n",
       "       0.745])"
      ]
     },
     "execution_count": 53,
     "metadata": {},
     "output_type": "execute_result"
    }
   ],
   "source": [
    "alphas"
   ]
  },
  {
   "cell_type": "code",
   "execution_count": 64,
   "metadata": {},
   "outputs": [],
   "source": [
    "sp.fit_alpha(70, 400, alphas)"
   ]
  },
  {
   "cell_type": "code",
   "execution_count": 65,
   "metadata": {},
   "outputs": [
    {
     "data": {
      "text/plain": [
       "0.725"
      ]
     },
     "execution_count": 65,
     "metadata": {},
     "output_type": "execute_result"
    }
   ],
   "source": [
    "sp.alpha"
   ]
  },
  {
   "cell_type": "code",
   "execution_count": 56,
   "metadata": {},
   "outputs": [],
   "source": [
    "sp.fit(200, 50, 2)"
   ]
  },
  {
   "cell_type": "code",
   "execution_count": 57,
   "metadata": {},
   "outputs": [
    {
     "name": "stdout",
     "output_type": "stream",
     "text": [
      "Location:  47.698010877366855\n",
      "Population eigenvalue estimate:  46.37285327177057\n",
      "Sample eigenvalue std: 1.852102856452902\n",
      "Estimated overlap: 0.969273041336257\n",
      "Overlap standard error: 0.000895989165507912\n"
     ]
    }
   ],
   "source": [
    "sp.calc_outlier_quants()\n",
    "sp.report()"
   ]
  },
  {
   "cell_type": "code",
   "execution_count": 91,
   "metadata": {},
   "outputs": [
    {
     "data": {
      "text/plain": [
       "<module 'methods' from '/Users/benlandon/Documents/new_career/git_repo/spiked_models/methods.py'>"
      ]
     },
     "execution_count": 91,
     "metadata": {},
     "output_type": "execute_result"
    }
   ],
   "source": [
    "imp.reload(methods)"
   ]
  },
  {
   "cell_type": "code",
   "execution_count": 85,
   "metadata": {},
   "outputs": [],
   "source": [
    "ad = spp.appr_esd"
   ]
  },
  {
   "cell_type": "code",
   "execution_count": 92,
   "metadata": {},
   "outputs": [],
   "source": [
    "f = methods.wrapper(methods.make_outlier_dist_sv(ad, N, M))"
   ]
  },
  {
   "cell_type": "code",
   "execution_count": 88,
   "metadata": {},
   "outputs": [],
   "source": [
    "r = spp.appr_esd.dens.r\n"
   ]
  },
  {
   "cell_type": "code",
   "execution_count": 89,
   "metadata": {},
   "outputs": [
    {
     "data": {
      "text/plain": [
       "array(3.04685096)"
      ]
     },
     "execution_count": 89,
     "metadata": {},
     "output_type": "execute_result"
    }
   ],
   "source": [
    "f(r+1)"
   ]
  },
  {
   "cell_type": "code",
   "execution_count": 93,
   "metadata": {},
   "outputs": [
    {
     "data": {
      "image/png": "[encoded data removed]",
      "text/plain": [
       "<Figure size 432x288 with 1 Axes>"
      ]
     },
     "metadata": {
      "needs_background": "light"
     },
     "output_type": "display_data"
    }
   ],
   "source": [
    "xx = np.arange(1000)/1000*40+r+0.1\n",
    "plt.plot(xx, f(xx))\n",
    "plt.show()"
   ]
  },
  {
   "cell_type": "code",
   "execution_count": null,
   "metadata": {},
   "outputs": [],
   "source": []
  }
 ],
 "metadata": {
  "kernelspec": {
   "display_name": "Python 3",
   "language": "python",
   "name": "python3"
  },
  "language_info": {
   "codemirror_mode": {
    "name": "ipython",
    "version": 3
   },
   "file_extension": ".py",
   "mimetype": "text/x-python",
   "name": "python",
   "nbconvert_exporter": "python",
   "pygments_lexer": "ipython3",
   "version": "3.8.0"
  }
 },
 "nbformat": 4,
 "nbformat_minor": 2
}
